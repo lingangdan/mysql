{
 "cells": [
  {
   "cell_type": "markdown",
   "metadata": {},
   "source": [
    "# 更多字符串和特殊方法\n",
    "- 前面我们已经学了类，在Python中还有一些特殊的方法起着非常重要的作用，这里会介绍一些特殊的方法和运算符的重载，以及使用特殊方法设计类"
   ]
  },
  {
   "cell_type": "markdown",
   "metadata": {},
   "source": [
    "## str 类\n",
    "- 一个str对象是不可变的，也就是说，一旦创建了这个字符串，那么它的内容在认为不改变的情况下是不会变的\n",
    "- s1 = str()\n",
    "- s2 = str('welcome to Python')"
   ]
  },
  {
   "cell_type": "code",
   "execution_count": 1,
   "metadata": {},
   "outputs": [
    {
     "name": "stdout",
     "output_type": "stream",
     "text": [
      "lyx\n"
     ]
    }
   ],
   "source": [
    "a = 'lyx'\n",
    "print(a)"
   ]
  },
  {
   "cell_type": "code",
   "execution_count": 2,
   "metadata": {},
   "outputs": [
    {
     "name": "stdout",
     "output_type": "stream",
     "text": [
      "\n"
     ]
    }
   ],
   "source": [
    "b = ''\n",
    "print(b)"
   ]
  },
  {
   "cell_type": "code",
   "execution_count": 3,
   "metadata": {},
   "outputs": [
    {
     "name": "stdout",
     "output_type": "stream",
     "text": [
      "\n"
     ]
    }
   ],
   "source": [
    "b = str()\n",
    "print(b)"
   ]
  },
  {
   "cell_type": "code",
   "execution_count": 4,
   "metadata": {},
   "outputs": [
    {
     "name": "stdout",
     "output_type": "stream",
     "text": [
      "12345\n"
     ]
    }
   ],
   "source": [
    "b = str(12345)\n",
    "print(b)"
   ]
  },
  {
   "cell_type": "code",
   "execution_count": 5,
   "metadata": {},
   "outputs": [
    {
     "name": "stdout",
     "output_type": "stream",
     "text": [
      "[1, 2, 3]\n"
     ]
    }
   ],
   "source": [
    "b = str([1,2,3])\n",
    "print(b)"
   ]
  },
  {
   "cell_type": "code",
   "execution_count": null,
   "metadata": {},
   "outputs": [],
   "source": [
    "#str强制类型转换"
   ]
  },
  {
   "cell_type": "markdown",
   "metadata": {},
   "source": [
    "## 创建两个对象，分别观察两者id\n",
    "- id为Python内存地址"
   ]
  },
  {
   "cell_type": "code",
   "execution_count": 6,
   "metadata": {},
   "outputs": [
    {
     "name": "stdout",
     "output_type": "stream",
     "text": [
      "2148808366152\n",
      "2148807771000\n"
     ]
    }
   ],
   "source": [
    "print(id('a'))\n",
    "print(id('id'))"
   ]
  },
  {
   "cell_type": "code",
   "execution_count": 7,
   "metadata": {},
   "outputs": [
    {
     "name": "stdout",
     "output_type": "stream",
     "text": [
      "2148808366152\n",
      "2148808364472\n"
     ]
    }
   ],
   "source": [
    "a ='a'\n",
    "b ='b'\n",
    "print(id(a))\n",
    "print(id(b))"
   ]
  },
  {
   "cell_type": "code",
   "execution_count": 8,
   "metadata": {},
   "outputs": [
    {
     "name": "stdout",
     "output_type": "stream",
     "text": [
      "2148860941840\n",
      "2148860941808\n"
     ]
    }
   ],
   "source": [
    "a =10000\n",
    "b =10000\n",
    "print(id(a))\n",
    "print(id(b))"
   ]
  },
  {
   "cell_type": "code",
   "execution_count": 9,
   "metadata": {},
   "outputs": [
    {
     "name": "stdout",
     "output_type": "stream",
     "text": [
      "140711002280768\n",
      "140711002280768\n"
     ]
    }
   ],
   "source": [
    "a =1\n",
    "b =1\n",
    "print(id(a))\n",
    "print(id(b))"
   ]
  },
  {
   "cell_type": "code",
   "execution_count": 10,
   "metadata": {},
   "outputs": [
    {
     "name": "stdout",
     "output_type": "stream",
     "text": [
      "2148860941968\n",
      "2148860941936\n"
     ]
    }
   ],
   "source": [
    "a =2500\n",
    "b =2500\n",
    "print(id(a))\n",
    "print(id(b))"
   ]
  },
  {
   "cell_type": "code",
   "execution_count": 11,
   "metadata": {},
   "outputs": [
    {
     "name": "stdout",
     "output_type": "stream",
     "text": [
      "2148861197256\n",
      "2148861197256\n"
     ]
    }
   ],
   "source": [
    "a ='aaaaa'\n",
    "b ='aaaaa'\n",
    "print(id(a))\n",
    "print(id(b))"
   ]
  },
  {
   "cell_type": "code",
   "execution_count": 12,
   "metadata": {},
   "outputs": [
    {
     "name": "stdout",
     "output_type": "stream",
     "text": [
      "2148808366152\n",
      "2148861197816\n"
     ]
    }
   ],
   "source": [
    "a ='a'\n",
    "b ='aaaa'\n",
    "print(id(a))\n",
    "print(id(b))"
   ]
  },
  {
   "cell_type": "markdown",
   "metadata": {},
   "source": [
    "## 处理字符串的函数\n",
    "- len\n",
    "- max\n",
    "- min\n",
    "- 字符串一切是按照ASCII码值进行比较"
   ]
  },
  {
   "cell_type": "code",
   "execution_count": 13,
   "metadata": {},
   "outputs": [
    {
     "data": {
      "text/plain": [
       "4"
      ]
     },
     "execution_count": 13,
     "metadata": {},
     "output_type": "execute_result"
    }
   ],
   "source": [
    "len('abc:')"
   ]
  },
  {
   "cell_type": "code",
   "execution_count": 14,
   "metadata": {},
   "outputs": [
    {
     "data": {
      "text/plain": [
       "5"
      ]
     },
     "execution_count": 14,
     "metadata": {},
     "output_type": "execute_result"
    }
   ],
   "source": [
    "len('1234 ')"
   ]
  },
  {
   "cell_type": "code",
   "execution_count": 16,
   "metadata": {},
   "outputs": [
    {
     "data": {
      "text/plain": [
       "4"
      ]
     },
     "execution_count": 16,
     "metadata": {},
     "output_type": "execute_result"
    }
   ],
   "source": [
    "len('abc ')"
   ]
  },
  {
   "cell_type": "code",
   "execution_count": 23,
   "metadata": {},
   "outputs": [
    {
     "data": {
      "text/plain": [
       "'b'"
      ]
     },
     "execution_count": 23,
     "metadata": {},
     "output_type": "execute_result"
    }
   ],
   "source": [
    "a = 'abc'\n",
    "a[1]"
   ]
  },
  {
   "cell_type": "code",
   "execution_count": 27,
   "metadata": {},
   "outputs": [
    {
     "name": "stdout",
     "output_type": "stream",
     "text": [
      "a\n",
      "b\n",
      "c\n",
      "d\n",
      "e\n"
     ]
    }
   ],
   "source": [
    "i=0\n",
    "a = 'abcde'\n",
    "while i<len(a):\n",
    "    print(a[i])\n",
    "    i+=1"
   ]
  },
  {
   "cell_type": "markdown",
   "metadata": {},
   "source": [
    "## 下角标运算符 []\n",
    "- 一个字符串是一个字符序列，可以通过索引进行访问\n",
    "- 观察字符串是否是一个可迭代序列  \\__iter__"
   ]
  },
  {
   "cell_type": "code",
   "execution_count": 28,
   "metadata": {},
   "outputs": [
    {
     "data": {
      "text/plain": [
       "'i'"
      ]
     },
     "execution_count": 28,
     "metadata": {},
     "output_type": "execute_result"
    }
   ],
   "source": [
    "a = 'linyuxin'\n",
    "a[1]"
   ]
  },
  {
   "cell_type": "code",
   "execution_count": 30,
   "metadata": {},
   "outputs": [
    {
     "data": {
      "text/plain": [
       "'l'"
      ]
     },
     "execution_count": 30,
     "metadata": {},
     "output_type": "execute_result"
    }
   ],
   "source": [
    "a = 'linyuxin'\n",
    "a[0:1]"
   ]
  },
  {
   "cell_type": "code",
   "execution_count": 32,
   "metadata": {},
   "outputs": [
    {
     "data": {
      "text/plain": [
       "'lin'"
      ]
     },
     "execution_count": 32,
     "metadata": {},
     "output_type": "execute_result"
    }
   ],
   "source": [
    "a = 'lin'\n",
    "a[0:3]"
   ]
  },
  {
   "cell_type": "code",
   "execution_count": 33,
   "metadata": {},
   "outputs": [
    {
     "data": {
      "text/plain": [
       "'linyuxin'"
      ]
     },
     "execution_count": 33,
     "metadata": {},
     "output_type": "execute_result"
    }
   ],
   "source": [
    "a = 'linyuxin'\n",
    "a[::]"
   ]
  },
  {
   "cell_type": "code",
   "execution_count": 39,
   "metadata": {},
   "outputs": [
    {
     "data": {
      "text/plain": [
       "'n'"
      ]
     },
     "execution_count": 39,
     "metadata": {},
     "output_type": "execute_result"
    }
   ],
   "source": [
    "a = 'linyuxin'\n",
    "a[-1]"
   ]
  },
  {
   "cell_type": "code",
   "execution_count": 37,
   "metadata": {},
   "outputs": [
    {
     "data": {
      "text/plain": [
       "'n'"
      ]
     },
     "execution_count": 37,
     "metadata": {},
     "output_type": "execute_result"
    }
   ],
   "source": [
    "a = 'linyuxin'\n",
    "a[::-1][0]"
   ]
  },
  {
   "cell_type": "markdown",
   "metadata": {},
   "source": [
    "## 切片 [start: end]\n",
    "- start 默认值为0\n",
    "- end 默认值为-1"
   ]
  },
  {
   "cell_type": "code",
   "execution_count": 40,
   "metadata": {},
   "outputs": [
    {
     "data": {
      "text/plain": [
       "'https'"
      ]
     },
     "execution_count": 40,
     "metadata": {},
     "output_type": "execute_result"
    }
   ],
   "source": [
    "a = 'https://m.jb51.net/article/48001.htm'\n",
    "a[0:5]"
   ]
  },
  {
   "cell_type": "code",
   "execution_count": 41,
   "metadata": {},
   "outputs": [
    {
     "data": {
      "text/plain": [
       "'m.jb51.net'"
      ]
     },
     "execution_count": 41,
     "metadata": {},
     "output_type": "execute_result"
    }
   ],
   "source": [
    "a = 'https://m.jb51.net/article/48001.htm'\n",
    "a[8:18]"
   ]
  },
  {
   "cell_type": "code",
   "execution_count": 43,
   "metadata": {},
   "outputs": [
    {
     "data": {
      "text/plain": [
       "'article'"
      ]
     },
     "execution_count": 43,
     "metadata": {},
     "output_type": "execute_result"
    }
   ],
   "source": [
    "a = 'https://m.jb51.net/article/48001.htm'\n",
    "a[19:26]"
   ]
  },
  {
   "cell_type": "code",
   "execution_count": 52,
   "metadata": {},
   "outputs": [
    {
     "data": {
      "text/plain": [
       "'bdf'"
      ]
     },
     "execution_count": 52,
     "metadata": {},
     "output_type": "execute_result"
    }
   ],
   "source": [
    "b = 'abcdef'\n",
    "b[::-1][::2][::-1]"
   ]
  },
  {
   "cell_type": "code",
   "execution_count": 53,
   "metadata": {},
   "outputs": [
    {
     "data": {
      "text/plain": [
       "'bdf'"
      ]
     },
     "execution_count": 53,
     "metadata": {},
     "output_type": "execute_result"
    }
   ],
   "source": [
    "b = 'abcdef'\n",
    "b[1:6:2]"
   ]
  },
  {
   "cell_type": "markdown",
   "metadata": {},
   "source": [
    "## 链接运算符 + 和复制运算符 *\n",
    "- \\+ 链接多个字符串，同时''.join()也是\n",
    "- \\* 复制多个字符串"
   ]
  },
  {
   "cell_type": "code",
   "execution_count": 54,
   "metadata": {},
   "outputs": [
    {
     "data": {
      "text/plain": [
       "'bb'"
      ]
     },
     "execution_count": 54,
     "metadata": {},
     "output_type": "execute_result"
    }
   ],
   "source": [
    "'b'+'b'#字符串之间只能加，字符串和数字只可以相乘，代表重复多少次"
   ]
  },
  {
   "cell_type": "code",
   "execution_count": 59,
   "metadata": {},
   "outputs": [
    {
     "name": "stdout",
     "output_type": "stream",
     "text": [
      "**** **** **** ****\n"
     ]
    }
   ],
   "source": [
    "a = '*'* 4\n",
    "b = '*'* 4\n",
    "c = '*'* 4\n",
    "d = '*'* 4\n",
    "\n",
    "print(a,b,c,d)"
   ]
  },
  {
   "cell_type": "code",
   "execution_count": 67,
   "metadata": {},
   "outputs": [],
   "source": [
    "i = 5\n",
    "for i in range(5,0):\n",
    "    a = '*'*i\n",
    "    i-=1\n",
    "    print(a)"
   ]
  },
  {
   "cell_type": "code",
   "execution_count": 81,
   "metadata": {},
   "outputs": [
    {
     "ename": "IndentationError",
     "evalue": "unindent does not match any outer indentation level (<tokenize>, line 16)",
     "output_type": "error",
     "traceback": [
      "\u001b[1;36m  File \u001b[1;32m\"<tokenize>\"\u001b[1;36m, line \u001b[1;32m16\u001b[0m\n\u001b[1;33m    for j in range(rows-2):\u001b[0m\n\u001b[1;37m    ^\u001b[0m\n\u001b[1;31mIndentationError\u001b[0m\u001b[1;31m:\u001b[0m unindent does not match any outer indentation level\n"
     ]
    }
   ],
   "source": [
    "rows=6 \n",
    "\n",
    "print('1-'*16) \n",
    "for i in range(rows): \n",
    "    for j in range(rows):\n",
    "        print(' *', end='') \n",
    "    print() \n",
    "print('2-'*16)\n",
    "for i in range(rows): \n",
    "    if (i == 0) | (i == rows-1): \n",
    "        for j in range(rows):\n",
    "            print(' *', end='') \n",
    "    else:\n",
    "         for j in range(1):\n",
    "                 print(' *', end='') \n",
    "        for j in range(rows-2):\n",
    "             print(' ', end='') \n",
    "        for j in range(1): \n",
    "            print(' *', end='')\n",
    "    print()"
   ]
  },
  {
   "cell_type": "code",
   "execution_count": 85,
   "metadata": {},
   "outputs": [
    {
     "name": "stdout",
     "output_type": "stream",
     "text": [
      " *  *  *  *  \n",
      " *        *  \n",
      " *        *  \n",
      " *  *  *  *  \n"
     ]
    }
   ],
   "source": [
    "for i in range(4):\n",
    "    for o in range(4):\n",
    "        if i == 0 or i == 3:\n",
    "            print(' * ',end = '')\n",
    "        elif o == 0 or o ==3:\n",
    "            print(' * ',end = '')\n",
    "        else:\n",
    "            print('   ',end = '')\n",
    "    print(\" \")"
   ]
  },
  {
   "cell_type": "code",
   "execution_count": 86,
   "metadata": {},
   "outputs": [
    {
     "data": {
      "text/plain": [
       "'a!b!c'"
      ]
     },
     "execution_count": 86,
     "metadata": {},
     "output_type": "execute_result"
    }
   ],
   "source": [
    "'!'.join('abc')#'相当于a'+'!'+'b'+'!'+'c'"
   ]
  },
  {
   "cell_type": "code",
   "execution_count": null,
   "metadata": {},
   "outputs": [],
   "source": [
    "url = 'http'"
   ]
  },
  {
   "cell_type": "code",
   "execution_count": 26,
   "metadata": {},
   "outputs": [],
   "source": [
    "import requests"
   ]
  },
  {
   "cell_type": "code",
   "execution_count": 27,
   "metadata": {},
   "outputs": [
    {
     "ename": "SyntaxError",
     "evalue": "invalid syntax (<ipython-input-27-00b9a5914047>, line 1)",
     "output_type": "error",
     "traceback": [
      "\u001b[1;36m  File \u001b[1;32m\"<ipython-input-27-00b9a5914047>\"\u001b[1;36m, line \u001b[1;32m1\u001b[0m\n\u001b[1;33m    foe i in range(1,5):\u001b[0m\n\u001b[1;37m        ^\u001b[0m\n\u001b[1;31mSyntaxError\u001b[0m\u001b[1;31m:\u001b[0m invalid syntax\n"
     ]
    }
   ],
   "source": [
    "foe i in range(1,5):\n",
    "    url=''\n",
    "    res=requests.get(url)\n",
    "    res.text"
   ]
  },
  {
   "cell_type": "markdown",
   "metadata": {},
   "source": [
    "## in 和 not in 运算符\n",
    "- in :判断某个字符是否在字符串内 \n",
    "- not in ：判断某个字符是否不在字符串内\n",
    "- 返回的是布尔值"
   ]
  },
  {
   "cell_type": "code",
   "execution_count": 87,
   "metadata": {},
   "outputs": [
    {
     "data": {
      "text/plain": [
       "True"
      ]
     },
     "execution_count": 87,
     "metadata": {},
     "output_type": "execute_result"
    }
   ],
   "source": [
    "'a'in 'aaa'"
   ]
  },
  {
   "cell_type": "code",
   "execution_count": 90,
   "metadata": {},
   "outputs": [
    {
     "data": {
      "text/plain": [
       "True"
      ]
     },
     "execution_count": 90,
     "metadata": {},
     "output_type": "execute_result"
    }
   ],
   "source": [
    "a = '虎王真傻'\n",
    "b = '虎王真帅'\n",
    "'虎'not in 'b'"
   ]
  },
  {
   "cell_type": "code",
   "execution_count": 91,
   "metadata": {},
   "outputs": [
    {
     "data": {
      "text/plain": [
       "True"
      ]
     },
     "execution_count": 91,
     "metadata": {},
     "output_type": "execute_result"
    }
   ],
   "source": [
    "a = '虎王真傻'\n",
    "b = '虎王真帅'\n",
    "b not in a"
   ]
  },
  {
   "cell_type": "code",
   "execution_count": null,
   "metadata": {},
   "outputs": [],
   "source": [
    "def mail_(a,b):\n",
    "    f = open('mail')"
   ]
  },
  {
   "cell_type": "code",
   "execution_count": 34,
   "metadata": {},
   "outputs": [
    {
     "name": "stdout",
     "output_type": "stream",
     "text": [
      "165279069@qq.com\n",
      "\n",
      "154790981@qq.com\n",
      "\n",
      "139615818@qq.com\n",
      "\n",
      "11000@qq.com\n",
      "\n",
      "111111@qq.com\n",
      "\n",
      "195777728@qq.com\n",
      "\n",
      "136886754@qq.com\n",
      "\n",
      "1053633239@qq.com\n",
      "\n"
     ]
    }
   ],
   "source": [
    "path = 'C:/linyuxin/mail.txt'\n",
    "with open(path) as f:\n",
    "    for i in range(100):\n",
    "        a = f.readline()\n",
    "        if a[0] == '1':#文件读写都是字符串类型\n",
    "            print(a)"
   ]
  },
  {
   "cell_type": "markdown",
   "metadata": {},
   "source": [
    "## 比较字符串\n",
    "-  ==, !=, >=, <=, >, <\n",
    "- 依照ASCII码值进行比较"
   ]
  },
  {
   "cell_type": "code",
   "execution_count": 35,
   "metadata": {},
   "outputs": [
    {
     "data": {
      "text/plain": [
       "False"
      ]
     },
     "execution_count": 35,
     "metadata": {},
     "output_type": "execute_result"
    }
   ],
   "source": [
    "'a' == 'aa'"
   ]
  },
  {
   "cell_type": "code",
   "execution_count": 36,
   "metadata": {},
   "outputs": [
    {
     "data": {
      "text/plain": [
       "True"
      ]
     },
     "execution_count": 36,
     "metadata": {},
     "output_type": "execute_result"
    }
   ],
   "source": [
    "'bc'>'ba'"
   ]
  },
  {
   "cell_type": "code",
   "execution_count": null,
   "metadata": {},
   "outputs": [],
   "source": [
    "#输入'abcse' 输出'se a ca'"
   ]
  },
  {
   "cell_type": "code",
   "execution_count": null,
   "metadata": {},
   "outputs": [],
   "source": [
    "'!'.join('abc')"
   ]
  },
  {
   "cell_type": "code",
   "execution_count": 61,
   "metadata": {},
   "outputs": [
    {
     "data": {
      "text/plain": [
       "'se'"
      ]
     },
     "execution_count": 61,
     "metadata": {},
     "output_type": "execute_result"
    }
   ],
   "source": [
    "a = 'abcse'\n",
    "a[3:5]"
   ]
  },
  {
   "cell_type": "code",
   "execution_count": 62,
   "metadata": {},
   "outputs": [
    {
     "data": {
      "text/plain": [
       "'a'"
      ]
     },
     "execution_count": 62,
     "metadata": {},
     "output_type": "execute_result"
    }
   ],
   "source": [
    "a[0:1]"
   ]
  },
  {
   "cell_type": "code",
   "execution_count": 64,
   "metadata": {},
   "outputs": [
    {
     "data": {
      "text/plain": [
       "'c'"
      ]
     },
     "execution_count": 64,
     "metadata": {},
     "output_type": "execute_result"
    }
   ],
   "source": [
    "a[2:3]"
   ]
  },
  {
   "cell_type": "code",
   "execution_count": 65,
   "metadata": {},
   "outputs": [
    {
     "data": {
      "text/plain": [
       "'a'"
      ]
     },
     "execution_count": 65,
     "metadata": {},
     "output_type": "execute_result"
    }
   ],
   "source": [
    "a[0:1]"
   ]
  },
  {
   "cell_type": "markdown",
   "metadata": {},
   "source": [
    "## 测试字符串\n",
    "![](../Photo/99.png)\n",
    "- 注意：\n",
    "> - isalnum() 中是不能包含空格，否则会返回False"
   ]
  },
  {
   "cell_type": "code",
   "execution_count": 28,
   "metadata": {},
   "outputs": [],
   "source": [
    "def Check():\n",
    "    a = input('请输入密码')\n",
    "    N = len(a)\n",
    "    N1,N2,N3 = 0,0,0\n",
    "    for i in a:\n",
    "        if i.isupper():\n",
    "            N1+=1\n",
    "        elif i.islower():\n",
    "            N2+=1\n",
    "        elif i.isdigit():\n",
    "            N3+=1\n",
    "    if N1 == 0:\n",
    "        print('密码必须含有大写英文')\n",
    "    if N2 == 0:\n",
    "        print('密码必须含有小写英文')\n",
    "    if N3 <=8 :\n",
    "        print('密码必须超过8位')#另外见照片"
   ]
  },
  {
   "cell_type": "code",
   "execution_count": 29,
   "metadata": {},
   "outputs": [
    {
     "name": "stdout",
     "output_type": "stream",
     "text": [
      "请输入密码a1234567890\n",
      "密码必须含有大写英文\n"
     ]
    }
   ],
   "source": [
    "Check()"
   ]
  },
  {
   "cell_type": "code",
   "execution_count": 104,
   "metadata": {},
   "outputs": [],
   "source": [
    "def mima():\n",
    "    a = input('请输入密码')\n",
    "    if  len(a)>=8:\n",
    "        a.isalnum()\n",
    "        a.isupper()\n",
    "        a.islower()\n",
    "        print('有效')\n",
    "    else:\n",
    "        print('无效')#分着写，不然没作用"
   ]
  },
  {
   "cell_type": "code",
   "execution_count": 105,
   "metadata": {},
   "outputs": [
    {
     "name": "stdout",
     "output_type": "stream",
     "text": [
      "请输入密码a1234567\n",
      "有效\n"
     ]
    }
   ],
   "source": [
    "mima()"
   ]
  },
  {
   "cell_type": "code",
   "execution_count": 1,
   "metadata": {},
   "outputs": [],
   "source": [
    "def account():\n",
    "    a = input('>>')\n",
    "    if len(a) == 8:\n",
    "        print('密码可以')\n",
    "    else:\n",
    "        print('长度不能小于8位')\n",
    "    if a.isupper and a.islower:\n",
    "        print('密码可以')\n",
    "    else:\n",
    "        print('无效')\n",
    "    if a.isalnum:\n",
    "        print('密码可以')\n",
    "    else:\n",
    "        print('无效')"
   ]
  },
  {
   "cell_type": "code",
   "execution_count": 2,
   "metadata": {},
   "outputs": [
    {
     "name": "stdout",
     "output_type": "stream",
     "text": [
      ">>q13432356\n",
      "长度不能小于8位\n",
      "密码可以\n",
      "密码可以\n"
     ]
    }
   ],
   "source": [
    "account()"
   ]
  },
  {
   "cell_type": "raw",
   "metadata": {},
   "source": [
    "#### "
   ]
  },
  {
   "cell_type": "code",
   "execution_count": null,
   "metadata": {},
   "outputs": [],
   "source": [
    "a = 'hj113!'\n",
    "a.isalnum()"
   ]
  },
  {
   "cell_type": "code",
   "execution_count": 6,
   "metadata": {},
   "outputs": [
    {
     "data": {
      "text/plain": [
       "True"
      ]
     },
     "execution_count": 6,
     "metadata": {},
     "output_type": "execute_result"
    }
   ],
   "source": [
    "b = 'abc'\n",
    "b.isalpha()"
   ]
  },
  {
   "cell_type": "code",
   "execution_count": 7,
   "metadata": {},
   "outputs": [
    {
     "data": {
      "text/plain": [
       "False"
      ]
     },
     "execution_count": 7,
     "metadata": {},
     "output_type": "execute_result"
    }
   ],
   "source": [
    "b = 'abc'\n",
    "b.isdigit()"
   ]
  },
  {
   "cell_type": "code",
   "execution_count": 10,
   "metadata": {},
   "outputs": [
    {
     "data": {
      "text/plain": [
       "True"
      ]
     },
     "execution_count": 10,
     "metadata": {},
     "output_type": "execute_result"
    }
   ],
   "source": [
    "b = 'sum'\n",
    "b.isidentifier()"
   ]
  },
  {
   "cell_type": "code",
   "execution_count": 12,
   "metadata": {},
   "outputs": [
    {
     "data": {
      "text/plain": [
       "True"
      ]
     },
     "execution_count": 12,
     "metadata": {},
     "output_type": "execute_result"
    }
   ],
   "source": [
    "b = ' '\n",
    "b.isspace()"
   ]
  },
  {
   "cell_type": "code",
   "execution_count": 13,
   "metadata": {},
   "outputs": [
    {
     "data": {
      "text/plain": [
       "False"
      ]
     },
     "execution_count": 13,
     "metadata": {},
     "output_type": "execute_result"
    }
   ],
   "source": [
    "b = 'abc'\n",
    "b.isspace()"
   ]
  },
  {
   "cell_type": "code",
   "execution_count": 15,
   "metadata": {},
   "outputs": [
    {
     "data": {
      "text/plain": [
       "False"
      ]
     },
     "execution_count": 15,
     "metadata": {},
     "output_type": "execute_result"
    }
   ],
   "source": [
    "b = 'abc'\n",
    "b.isupper()"
   ]
  },
  {
   "cell_type": "code",
   "execution_count": 81,
   "metadata": {},
   "outputs": [
    {
     "data": {
      "text/plain": [
       "True"
      ]
     },
     "execution_count": 81,
     "metadata": {},
     "output_type": "execute_result"
    }
   ],
   "source": [
    "b = '2c'\n",
    "b.islower()"
   ]
  },
  {
   "cell_type": "markdown",
   "metadata": {},
   "source": [
    "## 搜索子串\n",
    "![](../Photo/100.png)"
   ]
  },
  {
   "cell_type": "code",
   "execution_count": null,
   "metadata": {},
   "outputs": [],
   "source": []
  },
  {
   "cell_type": "code",
   "execution_count": 31,
   "metadata": {},
   "outputs": [
    {
     "data": {
      "text/plain": [
       "True"
      ]
     },
     "execution_count": 31,
     "metadata": {},
     "output_type": "execute_result"
    }
   ],
   "source": [
    "a = '帅!'\n",
    "b = '帅帅!'\n",
    "b.endswith(a)"
   ]
  },
  {
   "cell_type": "code",
   "execution_count": 33,
   "metadata": {},
   "outputs": [
    {
     "data": {
      "text/plain": [
       "1"
      ]
     },
     "execution_count": 33,
     "metadata": {},
     "output_type": "execute_result"
    }
   ],
   "source": [
    "b.count('帅!')"
   ]
  },
  {
   "cell_type": "code",
   "execution_count": 37,
   "metadata": {},
   "outputs": [
    {
     "data": {
      "text/plain": [
       "-1"
      ]
     },
     "execution_count": 37,
     "metadata": {},
     "output_type": "execute_result"
    }
   ],
   "source": [
    "c = 'abcs'\n",
    "c.find('ac')#从左往右找"
   ]
  },
  {
   "cell_type": "code",
   "execution_count": 39,
   "metadata": {},
   "outputs": [
    {
     "data": {
      "text/plain": [
       "5"
      ]
     },
     "execution_count": 39,
     "metadata": {},
     "output_type": "execute_result"
    }
   ],
   "source": [
    "d = 'abcdea'\n",
    "d.rfind('a')#带r的是从右往左找，返回的是从左往右数的索引rifind == rinht find"
   ]
  },
  {
   "cell_type": "code",
   "execution_count": 40,
   "metadata": {},
   "outputs": [
    {
     "data": {
      "text/plain": [
       "0"
      ]
     },
     "execution_count": 40,
     "metadata": {},
     "output_type": "execute_result"
    }
   ],
   "source": [
    "d.find('a')#ind == left find用于筛选"
   ]
  },
  {
   "cell_type": "code",
   "execution_count": 83,
   "metadata": {},
   "outputs": [],
   "source": [
    "import requests"
   ]
  },
  {
   "cell_type": "code",
   "execution_count": 88,
   "metadata": {},
   "outputs": [
    {
     "name": "stdout",
     "output_type": "stream",
     "text": [
      "<title>海贼王图片-海贼王图片大全-海贼王专题-4399动漫网</title>\n",
      "<meta name=\"keywords\" content=\"海贼王图片,海贼王壁纸,海贼王图片大全\" />\n",
      "<meta name=\"description\" content=\"4399海贼王专题为您提供海贼王图片大全，拥有路飞、索隆、山治、娜美、罗宾、女帝等海量高清海贼王壁纸、同人图。更多人气海贼王角色图片等您一睹为快。\" />\n",
      "<div class=\"head\"> <a href=\"javascript:void(0);\" title=\"4399海贼王动漫专区\" onclick=\"addfav(special_title,special_url);return false;\" class=\"logo\"></a> </div>\n",
      "<li ><a target=\"_self\" href=\"/haizeiwang/\" class=\"a1\">海贼王</a></li>\n",
      "<li><a href=\"http://www.4399dmw.com/haizeiwang/manhua/274923.html\">海贼王826话 山治家族姐弟登场</a></li>\n",
      "<li><a href=\"http://www.4399dmw.com/haizeiwang/shipin/271774.html\">海贼王燃烧之血超震撼游戏宣传片</a></li>\n",
      "<li><a href=\"http://www.4399dmw.com/haizeiwang/tupian/270215.html\">海贼王第80卷SBS新鲜内容大放送！</a></li>\n",
      "<li><a href=\"http://www.4399dmw.com/haizeiwang/donghua/270363.html\">海贼王730集  蔓雪莉的奇迹之泪</a></li>\n",
      "<li><a href=\"http://www.4399dmw.com/haizeiwang/juqing/262935.html\">50条关于海贼王的小秘密 你都知道哪一些</a></li>\n",
      "<li><a href=\"http://www.4399dmw.com/haizeiwang/tupian/260698.html\">海贼王2016年动画版年历</a></li>\n",
      "<li><a href=\"http://www.4399dmw.com/haizeiwang/tupian/260371.html\">海贼王2016年官方月历欣赏</a></li>\n",
      "<li><a href=\"http://weibo.com/xiaduophoto\">关注夏多老师微博  实时交流海贼王之道！</a></li>\n",
      "<li>4399海贼王官方群 群号：183253772</li>\n",
      "<li><a href=\"http://www.4399dmw.com/tuku/269004.html\">海贼王burning blood参战角色图赏</a></li>\n",
      "<li>4399海贼王官方超级群 QQ群号：76975076</li>\n",
      "<div class=\"dm_crumbs g_crumbs\"> 当前位置：<a href='/' target='_self'>4399动漫网</a><span class='s_g5'>&gt;</span><a href='/haizeiwang/' target='_self'>海贼王</a><span class='s_g5'>&gt;</span><a href='/haizeiwang/tupian/' target='_self'>海贼王图片</a> </div>\n",
      "<li> <a title=\"海贼王80卷单行本SBS\" href=\"/haizeiwang/tupian/270215.html\" class=\"img\"> <img src=\"http://dmimg.5054399.com/allimg/160217/6_160217142248_2.jpg\" alt=\"海贼王80卷单行本SBS\" /> </a> <a href=\"/haizeiwang/tupian/270215.html\" class=\"tit\">海贼王80卷单行本SBS</a> </li>\n",
      "<li> <a title=\"海贼王Burning Blood游戏参战角色\" href=\"http://www.4399dmw.com/tuku/269004.html\" class=\"img\"> <img src=\"http://dmimg.5054399.com/allimg/160126/6_160126100905_2.jpg\" alt=\"海贼王Burning Blood游戏参战角色\" /> </a> <a href=\"http://www.4399dmw.com/tuku/269004.html\" class=\"tit\">海贼王Burning Blood游戏参战角色</a> </li>\n",
      "<li> <a title=\"海贼王万圣节ZOMBIE主题磁章\" href=\"/haizeiwang/tupian/261738.html\" class=\"img\"> <img src=\"http://dmimg.5054399.com/allimg/151028/6_151028142939_1.jpg\" alt=\"海贼王万圣节ZOMBIE主题磁章\" /> </a> <a href=\"/haizeiwang/tupian/261738.html\" class=\"tit\">海贼王万圣节ZOMBIE主题磁章</a> </li>\n",
      "<li> <a title=\"海贼王79卷SBS及角色生日大全\" href=\"/haizeiwang/tupian/261691.html\" class=\"img\"> <img src=\"http://dmimg.5054399.com/allimg/151027/6_151027140205_1.jpg\" alt=\"海贼王79卷SBS及角色生日大全\" /> </a> <a href=\"/haizeiwang/tupian/261691.html\" class=\"tit\">海贼王79卷SBS及角色生日大全</a> </li>\n",
      "<li> <a title=\"海贼王2016年动画版年历\" href=\"/haizeiwang/tupian/260698.html\" class=\"img\"> <img src=\"http://dmimg.5054399.com/allimg/151006/6_151006204107_1.jpg\" alt=\"海贼王2016年动画版年历\" /> </a> <a href=\"/haizeiwang/tupian/260698.html\" class=\"tit\">海贼王2016年动画版年历</a> </li>\n",
      "<li> <a title=\"海贼王2016年官方月历\" href=\"/haizeiwang/tupian/260371.html\" class=\"img\"> <img src=\"http://dmimg.5054399.com/allimg/150927/6_150927153510_1.jpg\" alt=\"海贼王2016年官方月历\" /> </a> <a href=\"/haizeiwang/tupian/260371.html\" class=\"tit\">海贼王2016年官方月历</a> </li>\n",
      "<li> <a title=\"海贼王柯拉松和罗同人图\" href=\"/haizeiwang/tupian/258635.html\" class=\"img\"> <img src=\"http://dmimg.5054399.com/allimg/150821/6_150821105253_2.jpg\" alt=\"海贼王柯拉松和罗同人图\" /> </a> <a href=\"/haizeiwang/tupian/258635.html\" class=\"tit\">海贼王柯拉松和罗同人图</a> </li>\n",
      "<li> <a title=\"海贼王78卷SBS\" href=\"/haizeiwang/tupian/257280.html\" class=\"img\"> <img src=\"http://dmimg.5054399.com/allimg/150727/6_150727114156_1.jpg\" alt=\"海贼王78卷SBS\" /> </a> <a href=\"/haizeiwang/tupian/257280.html\" class=\"tit\">海贼王78卷SBS</a> </li>\n",
      "<li> <a title=\"海贼王77卷SBS\" href=\"/haizeiwang/tupian/250388.html\" class=\"img\"> <img src=\"http://dmimg.5054399.com/allimg/150416/6_150416172603_1.jpg\" alt=\"海贼王77卷SBS\" /> </a> <a href=\"/haizeiwang/tupian/250388.html\" class=\"tit\">海贼王77卷SBS</a> </li>\n",
      "<li> <a title=\"海贼王柯拉松同人图\" href=\"/haizeiwang/tupian/250345.html\" class=\"img\"> <img src=\"http://dmimg.5054399.com/allimg/150415/6_150415170647_1.jpg\" alt=\"海贼王柯拉松同人图\" /> </a> <a href=\"/haizeiwang/tupian/250345.html\" class=\"tit\">海贼王柯拉松同人图</a> </li>\n",
      "<li> <a title=\"轻松熊版海贼王萌头像\" href=\"/haizeiwang/tupian/250281.html\" class=\"img\"> <img src=\"http://dmimg.5054399.com/allimg/150414/6_150414115634_1.jpg\" alt=\"轻松熊版海贼王萌头像\" /> </a> <a href=\"/haizeiwang/tupian/250281.html\" class=\"tit\">轻松熊版海贼王萌头像</a> </li>\n",
      "<li> <a title=\"海贼王寻宝之旅官方人物图鉴\" href=\"/haizeiwang/tupian/249779.html\" class=\"img\"> <img src=\"http://dmimg.5054399.com/allimg/150407/6_150407142509_2.jpg\" alt=\"海贼王寻宝之旅官方人物图鉴\" /> </a> <a href=\"/haizeiwang/tupian/249779.html\" class=\"tit\">海贼王寻宝之旅官方人物图鉴</a> </li>\n",
      "<li> <a href=\"http://www.4399.com/flash/140922.htm\"> <img name=\"lzimg_1\" lz_src=\"http://dmimg.5054399.com/allimg/xiaduo/122.jpg\" alt=\"妖尾VS海贼王0.7\">妖尾VS海贼王0.7 </a> </li>\n",
      "<li> <a href=\"http://www.4399.com/flash/87159.htm\"> <img name=\"lzimg_1\" lz_src=\"http://dmimg.5054399.com/allimg/xiaduo/123.jpg\" alt=\"海贼王异域冒险3\">海贼王异域冒险3 </a> </li>\n",
      "<li> <a href=\"http://www.4399.com/flash/118829.htm\"> <img name=\"lzimg_1\" lz_src=\"http://dmimg.5054399.com/allimg/xiaduo/126.jpg\" alt=\"海贼王终极对决1.6\">海贼王终极对决1.6 </a> </li>\n",
      "<li> <a href=\"http://www.4399.com/flash/39039.htm\"> <img name=\"lzimg_1\" lz_src=\"http://dmimg.5054399.com/allimg/xiaduo/124.jpg\" alt=\"海贼王叉鱼记\">海贼王叉鱼记 </a> </li>\n",
      "<a class=\"title\" href=\"/haizeiwang/zixunzatan/\"> <i class=\"icon\"></i> 海贼王热门资讯 </a>\n",
      "<h3 class=\"g_side_actitle\"><a href=\"/haizeiwang/zixunzatan/304508.html\">《海贼王》奇葩产物 那些奇奇</a></h3>\n",
      "<div class=\"g_imgtext\"> <a href=\"/haizeiwang/zixunzatan/304508.html\" class=\"img\" title=\"《海贼王》奇葩产物 那些奇奇\"> <img alt=\"《海贼王》奇葩产物 那些奇奇\" src=\"http://dmimg.5054399.com/allimg/170613/42_170613104122_3.jpg\" /> </a>\n",
      "<p class=\"text\">海贼王里的电话虫是一种伟大航道内的通讯工具，虽然是生物，但......</p>\n",
      "<li> <span class=\"time\">[05-31]</span> <a href=\"/haizeiwang/zixunzatan/302016.html\">盘点海贼王漫画中让人匪夷所</a> </li>\n",
      "<li> <span class=\"time\">[05-25]</span> <a href=\"/haizeiwang/zixunzatan/300598.html\">《海贼王》里最适合撩妹的岛</a> </li>\n",
      "<li> <span class=\"time\">[05-24]</span> <a href=\"/haizeiwang/zixunzatan/300368.html\">《海贼王》里十大最丑的角色</a> </li>\n",
      "<li> <span class=\"time\">[05-15]</span> <a href=\"/haizeiwang/zixunzatan/298482.html\">《海贼王》里最会占女生便宜</a> </li>\n",
      "<li> <span class=\"time\">[04-28]</span> <a href=\"/haizeiwang/zixunzatan/296224.html\">海贼王角色两年前后对比 变化</a> </li>\n",
      "<div class=\"g_dmbtns\"> <a href=\"/haizeiwang/manhua/\" class=\"mhbtn\"> <i></i> <b>海贼王漫画</b> </a> <a href=\"/haizeiwang/donghua/\" class=\"dhbtn\"> <i></i> <b>海贼王动画</b> </a> </div>\n",
      "<a href=\"/haizeiwang/tupian/\" class=\"title\"> <i class=\"icon\"></i> 海贼王图片 </a>\n",
      "<li> <a href=\"/haizeiwang/tupian/270215.html\"> <img src=\"http://dmimg.5054399.com/allimg/160217/6_160217142248_3.jpg\" alt=\"海贼王80卷单行本SBS\" />海贼王80卷单行本SBS</a> </li>\n",
      "<li> <a href=\"http://www.4399dmw.com/tuku/269004.html\"> <img src=\"http://dmimg.5054399.com/allimg/160126/6_160126100905_3.jpg\" alt=\"海贼王Burning Blood游戏参战角色\" />海贼王Burning Blood游戏参战角色</a> </li>\n",
      "<li> <a href=\"/haizeiwang/tupian/261738.html\"> <img src=\"http://dmimg.5054399.com/allimg/151028/6_151028142939_2.jpg\" alt=\"海贼王万圣节ZOMBIE主题磁章\" />海贼王万圣节ZOMBIE主题磁章</a> </li>\n",
      "<a class=\"title\" href=\"/haizeiwang/juqing/\"> <i class=\"icon\"></i> 海贼王分析 </a>\n",
      "<li> <span class=\"time\">[03-09]</span> <a href=\"http://weibo.com/ttarticle/p/show?id=2309403951190911130828\">夏多的海贼王分析 和大家再见</a> </li>\n",
      "<li> <span class=\"time\">[03-01]</span> <a href=\"/haizeiwang/juqing/270577.html\">海贼王817分析</a> </li>\n",
      "<li> <span class=\"time\">[02-17]</span> <a href=\"/haizeiwang/juqing/270230.html\">新人浅谈我对海贼王和黑胡子</a> </li>\n",
      "<li> <span class=\"time\">[02-16]</span> <a href=\"/haizeiwang/juqing/269976.html\">海贼王816分析</a> </li>\n",
      "<li> <span class=\"time\">[02-06]</span> <a href=\"/haizeiwang/juqing/269679.html\">海贼王815分析</a> </li>\n",
      "<li> <span class=\"time\">[01-30]</span> <a href=\"/haizeiwang/juqing/269246.html\">海贼王814分析</a> </li>\n",
      "<a href=\"http://www.4399dmw.com/donghua/\">动画片</a><a href=\"http://www.4399dmw.com/manhua/\">漫画网</a><a href=\"http://www.4399dmw.com/\">动漫网</a><a href=\"http://www.4399dmw.com/huoying/\">火影忍者</a><a href=\"http://www.4399dmw.com/qinshimingyue/\">秦时明月</a><a href=\"http://www.4399dmw.com/dh/kjysbj/\">铠甲勇士捕将</a><a href=\"http://www.4399dmw.com/haizeiwang/\">海贼王</a><a href=\"http://www.4399dmw.com/yaojingdeweiba/\">妖精的尾巴</a><a href=\"http://www.4399dmw.com/orz/23/\">搞笑动画推荐</a><a href=\"http://www.4399dmw.com/atm/\">奥特曼专区</a><a href=\"http://www.4399dmw.com/news/\">动漫速递</a><a href=\"http://www.4399dmw.com/dh/bbmd/\">百变马丁</a><a href=\"http://www.4399dmw.com/zixun/381175.html\">19年1月新番</a><a href=\"http://www.4399dmw.com/orz/20/\">动漫小主题汇总</a><a href=\"http://www.4399dmw.com/xcmmovie3/\">熊出没之熊心归来大电影</a><a href=\"http://www.4399dmw.com/dh/dlzs3/\">斗龙战士3龙印之战</a><a href=\"http://www.4399dmw.com/dh/seerdiliuji/\">赛尔号第六季</a><a href=\"http://www.4399dmw.com/qinshimingyue/jltx/\">秦时明月之君临天下</a><a href=\"http://www.4399dmw.com/dh/drlft/\">熊出没之冬日乐翻天</a><a href=\"http://www.4399dmw.com/dh/qjleyuan/\">奇积乐园</a><a href=\"http://www.4399dmw.com/dh/akmfsn/\">艾可魔法少女</a>          </dd>\n",
      "    var typename = '海贼王';\n",
      "    var special_title = '海贼王专题-海贼王动漫中文网-4399动漫网';\n"
     ]
    }
   ],
   "source": [
    "url = 'http://www.4399dmw.com/haizeiwang/tupian/'\n",
    "HTML = requests.get(url).text\n",
    "LIST = HTML.split('\\n')\n",
    "for i in LIST:\n",
    "     # if '海贼王' in i:\n",
    "      #      print(i)\n",
    "    if i.find('海贼王') != -1:\n",
    "        print(i)"
   ]
  },
  {
   "cell_type": "code",
   "execution_count": 7,
   "metadata": {},
   "outputs": [],
   "source": [
    "import requests"
   ]
  },
  {
   "cell_type": "code",
   "execution_count": 9,
   "metadata": {},
   "outputs": [
    {
     "name": "stdout",
     "output_type": "stream",
     "text": [
      "<li> <a title=\"海贼王80卷单行本SBS\" href=\"/haizeiwang/tupian/270215.html\" class=\"img\"> <img src=\"http://dmimg.5054399.com/allimg/160217/6_160217142248_2.jpg\" alt=\"海贼王80卷单行本SBS\" /> </a> <a href=\"/haizeiwang/tupian/270215.html\" class=\"tit\">海贼王80卷单行本SBS</a> </li>\n",
      "<li> <a title=\"柯拉松先生同人图\" href=\"http://www.4399dmw.com/tuku/269112.html\" class=\"img\"> <img src=\"http://dmimg.5054399.com/allimg/160127/6_160127110842_1.jpg\" alt=\"柯拉松先生同人图\" /> </a> <a href=\"http://www.4399dmw.com/tuku/269112.html\" class=\"tit\">柯拉松先生同人图</a> </li>\n",
      "<li> <a title=\"海贼王Burning Blood游戏参战角色\" href=\"http://www.4399dmw.com/tuku/269004.html\" class=\"img\"> <img src=\"http://dmimg.5054399.com/allimg/160126/6_160126100905_2.jpg\" alt=\"海贼王Burning Blood游戏参战角色\" /> </a> <a href=\"http://www.4399dmw.com/tuku/269004.html\" class=\"tit\">海贼王Burning Blood游戏参战角色</a> </li>\n",
      "<li> <a title=\"海贼王万圣节ZOMBIE主题磁章\" href=\"/haizeiwang/tupian/261738.html\" class=\"img\"> <img src=\"http://dmimg.5054399.com/allimg/151028/6_151028142939_1.jpg\" alt=\"海贼王万圣节ZOMBIE主题磁章\" /> </a> <a href=\"/haizeiwang/tupian/261738.html\" class=\"tit\">海贼王万圣节ZOMBIE主题磁章</a> </li>\n",
      "<li> <a title=\"海贼王79卷SBS及角色生日大全\" href=\"/haizeiwang/tupian/261691.html\" class=\"img\"> <img src=\"http://dmimg.5054399.com/allimg/151027/6_151027140205_1.jpg\" alt=\"海贼王79卷SBS及角色生日大全\" /> </a> <a href=\"/haizeiwang/tupian/261691.html\" class=\"tit\">海贼王79卷SBS及角色生日大全</a> </li>\n",
      "<li> <a title=\"海贼王2016年动画版年历\" href=\"/haizeiwang/tupian/260698.html\" class=\"img\"> <img src=\"http://dmimg.5054399.com/allimg/151006/6_151006204107_1.jpg\" alt=\"海贼王2016年动画版年历\" /> </a> <a href=\"/haizeiwang/tupian/260698.html\" class=\"tit\">海贼王2016年动画版年历</a> </li>\n",
      "<li> <a title=\"海贼王2016年官方月历\" href=\"/haizeiwang/tupian/260371.html\" class=\"img\"> <img src=\"http://dmimg.5054399.com/allimg/150927/6_150927153510_1.jpg\" alt=\"海贼王2016年官方月历\" /> </a> <a href=\"/haizeiwang/tupian/260371.html\" class=\"tit\">海贼王2016年官方月历</a> </li>\n",
      "<li> <a title=\"海贼王柯拉松和罗同人图\" href=\"/haizeiwang/tupian/258635.html\" class=\"img\"> <img src=\"http://dmimg.5054399.com/allimg/150821/6_150821105253_2.jpg\" alt=\"海贼王柯拉松和罗同人图\" /> </a> <a href=\"/haizeiwang/tupian/258635.html\" class=\"tit\">海贼王柯拉松和罗同人图</a> </li>\n",
      "<li> <a title=\"画师盖括 一支笔一个梦海贼篇合辑\" href=\"/haizeiwang/tupian/257341.html\" class=\"img\"> <img src=\"http://dmimg.5054399.com/allimg/150728/6_150728100515_1.jpg\" alt=\"画师盖括 一支笔一个梦海贼篇合辑\" /> </a> <a href=\"/haizeiwang/tupian/257341.html\" class=\"tit\">画师盖括 一支笔一个梦海贼篇合辑</a> </li>\n",
      "<li> <a title=\"海贼王78卷SBS\" href=\"/haizeiwang/tupian/257280.html\" class=\"img\"> <img src=\"http://dmimg.5054399.com/allimg/150727/6_150727114156_1.jpg\" alt=\"海贼王78卷SBS\" /> </a> <a href=\"/haizeiwang/tupian/257280.html\" class=\"tit\">海贼王78卷SBS</a> </li>\n",
      "<li> <a title=\"ONE PIECE JEANIST牛仔裤组图\" href=\"/haizeiwang/tupian/257190.html\" class=\"img\"> <img src=\"http://dmimg.5054399.com/allimg/150726/6_150726014844_1.jpg\" alt=\"ONE PIECE JEANIST牛仔裤组图\" /> </a> <a href=\"/haizeiwang/tupian/257190.html\" class=\"tit\">ONE PIECE JEANIST牛仔裤组图</a> </li>\n",
      "<li> <a title=\"推进城狱卒小萨迪COSPLAY欣赏\" href=\"/haizeiwang/tupian/253253.html\" class=\"img\"> <img src=\"http://dmimg.5054399.com/allimg/150529/6_150529115733_1.jpg\" alt=\"推进城狱卒小萨迪COSPLAY欣赏\" /> </a> <a href=\"/haizeiwang/tupian/253253.html\" class=\"tit\">推进城狱卒小萨迪COSPLAY欣赏</a> </li>\n",
      "<li> <a title=\"路飞2015年5月5日生日贺图\" href=\"/haizeiwang/tupian/251825.html\" class=\"img\"> <img src=\"http://dmimg.5054399.com/allimg/150505/6_150505112033_1.jpg\" alt=\"路飞2015年5月5日生日贺图\" /> </a> <a href=\"/haizeiwang/tupian/251825.html\" class=\"tit\">路飞2015年5月5日生日贺图</a> </li>\n",
      "<li> <a title=\"海贼王77卷SBS\" href=\"/haizeiwang/tupian/250388.html\" class=\"img\"> <img src=\"http://dmimg.5054399.com/allimg/150416/6_150416172603_1.jpg\" alt=\"海贼王77卷SBS\" /> </a> <a href=\"/haizeiwang/tupian/250388.html\" class=\"tit\">海贼王77卷SBS</a> </li>\n",
      "<li> <a title=\"海贼王柯拉松同人图\" href=\"/haizeiwang/tupian/250345.html\" class=\"img\"> <img src=\"http://dmimg.5054399.com/allimg/150415/6_150415170647_1.jpg\" alt=\"海贼王柯拉松同人图\" /> </a> <a href=\"/haizeiwang/tupian/250345.html\" class=\"tit\">海贼王柯拉松同人图</a> </li>\n",
      "<li> <a title=\"轻松熊版海贼王萌头像\" href=\"/haizeiwang/tupian/250281.html\" class=\"img\"> <img src=\"http://dmimg.5054399.com/allimg/150414/6_150414115634_1.jpg\" alt=\"轻松熊版海贼王萌头像\" /> </a> <a href=\"/haizeiwang/tupian/250281.html\" class=\"tit\">轻松熊版海贼王萌头像</a> </li>\n",
      "<li> <a title=\"海贼王寻宝之旅官方人物图鉴\" href=\"/haizeiwang/tupian/249779.html\" class=\"img\"> <img src=\"http://dmimg.5054399.com/allimg/150407/6_150407142509_2.jpg\" alt=\"海贼王寻宝之旅官方人物图鉴\" /> </a> <a href=\"/haizeiwang/tupian/249779.html\" class=\"tit\">海贼王寻宝之旅官方人物图鉴</a> </li>\n",
      "<li> <a title=\"乔巴可爱拟人COSPLAY欣赏\" href=\"/haizeiwang/tupian/249445.html\" class=\"img\"> <img src=\"http://dmimg.5054399.com/allimg/150330/6_150330170659_2.jpg\" alt=\"乔巴可爱拟人COSPLAY欣赏\" /> </a> <a href=\"/haizeiwang/tupian/249445.html\" class=\"tit\">乔巴可爱拟人COSPLAY欣赏</a> </li>\n",
      "<li> <a href=\"http://my.4399.com/yxhhw/\"> <img name=\"lzimg_1\" lz_src=\"http://dmimg.5054399.com/allimg/xiaduo/121.jpg\" alt=\"4399航海王OL\">4399航海王OL </a> </li>\n",
      "<li> <a href=\"http://www.4399.com/flash/140922.htm\"> <img name=\"lzimg_1\" lz_src=\"http://dmimg.5054399.com/allimg/xiaduo/122.jpg\" alt=\"妖尾VS海贼王0.7\">妖尾VS海贼王0.7 </a> </li>\n",
      "<li> <a href=\"http://www.4399.com/flash/87159.htm\"> <img name=\"lzimg_1\" lz_src=\"http://dmimg.5054399.com/allimg/xiaduo/123.jpg\" alt=\"海贼王异域冒险3\">海贼王异域冒险3 </a> </li>\n",
      "<li> <a href=\"http://www.4399.com/flash/97213_2.htm\"> <img name=\"lzimg_1\" lz_src=\"http://dmimg.5054399.com/allimg/170415/6_170415112850_1.jpg\" alt=\"海贼VS火影\">海贼VS火影 </a> </li>\n",
      "<li> <a href=\"http://www.4399.com/flash/118829.htm\"> <img name=\"lzimg_1\" lz_src=\"http://dmimg.5054399.com/allimg/xiaduo/126.jpg\" alt=\"海贼王终极对决1.6\">海贼王终极对决1.6 </a> </li>\n",
      "<li> <a href=\"http://www.4399.com/flash/39039.htm\"> <img name=\"lzimg_1\" lz_src=\"http://dmimg.5054399.com/allimg/xiaduo/124.jpg\" alt=\"海贼王叉鱼记\">海贼王叉鱼记 </a> </li>\n",
      "<div class=\"g_imgtext\"> <a href=\"/haizeiwang/zixunzatan/304508.html\" class=\"img\" title=\"《海贼王》奇葩产物 那些奇奇\"> <img alt=\"《海贼王》奇葩产物 那些奇奇\" src=\"http://dmimg.5054399.com/allimg/170613/42_170613104122_3.jpg\" /> </a>\n",
      "<li> <a href=\"/haizeiwang/tupian/270215.html\"> <img src=\"http://dmimg.5054399.com/allimg/160217/6_160217142248_3.jpg\" alt=\"海贼王80卷单行本SBS\" />海贼王80卷单行本SBS</a> </li>\n",
      "<li> <a href=\"http://www.4399dmw.com/tuku/269112.html\"> <img src=\"http://dmimg.5054399.com/allimg/160127/6_160127110842_2.jpg\" alt=\"柯拉松先生同人图\" />柯拉松先生同人图</a> </li>\n",
      "<li> <a href=\"http://www.4399dmw.com/tuku/269004.html\"> <img src=\"http://dmimg.5054399.com/allimg/160126/6_160126100905_3.jpg\" alt=\"海贼王Burning Blood游戏参战角色\" />海贼王Burning Blood游戏参战角色</a> </li>\n",
      "<li> <a href=\"/haizeiwang/tupian/261738.html\"> <img src=\"http://dmimg.5054399.com/allimg/151028/6_151028142939_2.jpg\" alt=\"海贼王万圣节ZOMBIE主题磁章\" />海贼王万圣节ZOMBIE主题磁章</a> </li>\n"
     ]
    }
   ],
   "source": [
    "url = 'http://www.4399dmw.com/haizeiwang/tupian/'\n",
    "HTML = requests.get(url).text\n",
    "LIST = HTML.split('\\n')\n",
    "for i in LIST:\n",
    "        if i.find('http://'and 'jpg') != -1:\n",
    "            if i.find('img') != -1:\n",
    "                print(i)"
   ]
  },
  {
   "cell_type": "code",
   "execution_count": null,
   "metadata": {},
   "outputs": [],
   "source": [
    "import requests"
   ]
  },
  {
   "cell_type": "code",
   "execution_count": 15,
   "metadata": {},
   "outputs": [
    {
     "name": "stdout",
     "output_type": "stream",
     "text": [
      "http://dmimg.5054399.com/allimg/160217/6_160217142248_2.jpg\n",
      "http://dmimg.5054399.com/allimg/160127/6_160127110842_1.jpg\n",
      "http://dmimg.5054399.com/allimg/160126/6_160126100905_2.jpg\n",
      "http://dmimg.5054399.com/allimg/151028/6_151028142939_1.jpg\n",
      "http://dmimg.5054399.com/allimg/151027/6_151027140205_1.jpg\n",
      "http://dmimg.5054399.com/allimg/151006/6_151006204107_1.jpg\n",
      "http://dmimg.5054399.com/allimg/150927/6_150927153510_1.jpg\n",
      "http://dmimg.5054399.com/allimg/150821/6_150821105253_2.jpg\n",
      "http://dmimg.5054399.com/allimg/150728/6_150728100515_1.jpg\n",
      "http://dmimg.5054399.com/allimg/150727/6_150727114156_1.jpg\n",
      "http://dmimg.5054399.com/allimg/150726/6_150726014844_1.jpg\n",
      "http://dmimg.5054399.com/allimg/150529/6_150529115733_1.jpg\n",
      "http://dmimg.5054399.com/allimg/150505/6_150505112033_1.jpg\n",
      "http://dmimg.5054399.com/allimg/150416/6_150416172603_1.jpg\n",
      "http://dmimg.5054399.com/allimg/150415/6_150415170647_1.jpg\n",
      "http://dmimg.5054399.com/allimg/150414/6_150414115634_1.jpg\n",
      "http://dmimg.5054399.com/allimg/150407/6_150407142509_2.jpg\n",
      "http://dmimg.5054399.com/allimg/150330/6_150330170659_2.jpg\n",
      "http://dmimg.5054399.com/allimg/xiaduo/121.jpg\n",
      "http://dmimg.5054399.com/allimg/xiaduo/122.jpg\n",
      "http://dmimg.5054399.com/allimg/xiaduo/123.jpg\n",
      "http://dmimg.5054399.com/allimg/170415/6_170415112850_1.jpg\n",
      "http://dmimg.5054399.com/allimg/xiaduo/126.jpg\n",
      "http://dmimg.5054399.com/allimg/xiaduo/124.jpg\n",
      "http://dmimg.5054399.com/allimg/170613/42_170613104122_3.jpg\n",
      "http://dmimg.5054399.com/allimg/160217/6_160217142248_3.jpg\n",
      "http://dmimg.5054399.com/allimg/160127/6_160127110842_2.jpg\n",
      "http://dmimg.5054399.com/allimg/160126/6_160126100905_3.jpg\n",
      "http://dmimg.5054399.com/allimg/151028/6_151028142939_2.jpg\n"
     ]
    }
   ],
   "source": [
    "url = 'http://www.4399dmw.com/haizeiwang/tupian/'\n",
    "HTML = requests.get(url).text\n",
    "LIST = HTML.split('\\n')\n",
    "for line in LIST:\n",
    "    if '.jpg' in line:\n",
    "        lin2 = line.split('\"')\n",
    "          #print(lin2)\n",
    "        for linee in lin2:\n",
    "            if '.jpg' in linee:\n",
    "                print(linee)"
   ]
  },
  {
   "cell_type": "code",
   "execution_count": 20,
   "metadata": {},
   "outputs": [],
   "source": [
    "import requests"
   ]
  },
  {
   "cell_type": "code",
   "execution_count": 34,
   "metadata": {},
   "outputs": [
    {
     "name": "stdout",
     "output_type": "stream",
     "text": [
      "http://dmimg.5054399.com/allimg/150330/6_150330161421_2.jpg\n",
      "http://dmimg.5054399.com/allimg/150320/6_150320104402_1.jpg\n",
      "http://dmimg.5054399.com/allimg/150317/6_150317101316_1.jpg\n",
      "http://dmimg.5054399.com/allimg/150331/6_150331095525_1.jpg\n",
      "http://dmimg.5054399.com/allimg/150305/6_150305102040_3.jpg\n",
      "http://dmimg.5054399.com/allimg/150218/6_150218163858_2.jpg\n",
      "http://dmimg.5054399.com/allimg/150209/6_150209151809_1.jpg\n",
      "http://dmimg.5054399.com/allimg/150206/6_150206154705_1.jpg\n",
      "http://dmimg.5054399.com/allimg/150203/32_150203114445_1.jpg\n",
      "http://dmimg.5054399.com/allimg/150130/6_150130160542_1.jpg\n",
      "http://dmimg.5054399.com/allimg/150129/6_150129154845_1.jpg\n",
      "http://dmimg.5054399.com/allimg/150128/6_150128193911_1.jpg\n",
      "http://dmimg.5054399.com/allimg/150128/6_150128165954_1.jpg\n",
      "http://dmimg.5054399.com/allimg/150127/6_150127115234_1.jpg\n",
      "http://dmimg.5054399.com/allimg/140623/6_140623110852_1.jpg\n",
      "http://dmimg.5054399.com/allimg/150121/6_150121135815_1.jpg\n",
      "http://dmimg.5054399.com/allimg/150114/6_150114094256_1.jpg\n",
      "http://dmimg.5054399.com/allimg/141212/6_141212093715_1.jpg\n",
      "http://dmimg.5054399.com/allimg/xiaduo/121.jpg\n",
      "http://dmimg.5054399.com/allimg/xiaduo/122.jpg\n",
      "http://dmimg.5054399.com/allimg/xiaduo/123.jpg\n",
      "http://dmimg.5054399.com/allimg/170415/6_170415112850_1.jpg\n",
      "http://dmimg.5054399.com/allimg/xiaduo/126.jpg\n",
      "http://dmimg.5054399.com/allimg/xiaduo/124.jpg\n",
      "http://dmimg.5054399.com/allimg/170613/42_170613104122_3.jpg\n",
      "http://dmimg.5054399.com/allimg/160217/6_160217142248_3.jpg\n",
      "http://dmimg.5054399.com/allimg/160127/6_160127110842_2.jpg\n",
      "http://dmimg.5054399.com/allimg/160126/6_160126100905_3.jpg\n",
      "http://dmimg.5054399.com/allimg/151028/6_151028142939_2.jpg\n",
      "http://www.4399dmw.com/haizeiwang/tupian/list-273-2.html6.html\n"
     ]
    }
   ],
   "source": [
    "url = 'http://www.4399dmw.com/haizeiwang/tupian/list-273-2.html'\n",
    "for i in range(2,7):\n",
    "    url_= url + str(i) + '.html'\n",
    "    HTML = requests.get(url).text\n",
    "    LIST = HTML.split('\\n')\n",
    "for line in LIST:\n",
    "    if '.jpg' in line:\n",
    "        lin2 = line.split('\"')\n",
    "          #print(lin2)\n",
    "        for linee in lin2:\n",
    "            if '.jpg' in linee:\n",
    "                print(linee)\n",
    "print(url_)\n"
   ]
  },
  {
   "cell_type": "code",
   "execution_count": 15,
   "metadata": {},
   "outputs": [
    {
     "data": {
      "text/plain": [
       "'Jelly Monster'"
      ]
     },
     "execution_count": 15,
     "metadata": {},
     "output_type": "execute_result"
    }
   ],
   "source": [
    "a = 'jelly monster'\n",
    "a.title()#转换大小写"
   ]
  },
  {
   "cell_type": "code",
   "execution_count": 91,
   "metadata": {},
   "outputs": [
    {
     "data": {
      "text/plain": [
       "'JeLLY MONSTER'"
      ]
     },
     "execution_count": 91,
     "metadata": {},
     "output_type": "execute_result"
    }
   ],
   "source": [
    "a = 'jElly monster'\n",
    "a.swapcase()#转换大小写"
   ]
  },
  {
   "cell_type": "code",
   "execution_count": 92,
   "metadata": {},
   "outputs": [
    {
     "data": {
      "text/plain": [
       "'kElly '"
      ]
     },
     "execution_count": 92,
     "metadata": {},
     "output_type": "execute_result"
    }
   ],
   "source": [
    "a = 'jElly '\n",
    "a.replace('j','k')"
   ]
  },
  {
   "cell_type": "code",
   "execution_count": 93,
   "metadata": {},
   "outputs": [
    {
     "data": {
      "text/plain": [
       "'avcd'"
      ]
     },
     "execution_count": 93,
     "metadata": {},
     "output_type": "execute_result"
    }
   ],
   "source": [
    "a = 'a v c d'\n",
    "a.replace(' ',\"\")#把空格整没"
   ]
  },
  {
   "cell_type": "code",
   "execution_count": 96,
   "metadata": {},
   "outputs": [
    {
     "data": {
      "text/plain": [
       "'kojer'"
      ]
     },
     "execution_count": 96,
     "metadata": {},
     "output_type": "execute_result"
    }
   ],
   "source": [
    "a = 'Jojer'\n",
    "a.replace('J','k')"
   ]
  },
  {
   "cell_type": "markdown",
   "metadata": {},
   "source": [
    "## 转换字符串\n",
    "![](../Photo/101.png)"
   ]
  },
  {
   "cell_type": "code",
   "execution_count": null,
   "metadata": {},
   "outputs": [],
   "source": []
  },
  {
   "cell_type": "markdown",
   "metadata": {},
   "source": [
    "## 删除字符串\n",
    "![](../Photo/146.png)"
   ]
  },
  {
   "cell_type": "code",
   "execution_count": 97,
   "metadata": {},
   "outputs": [
    {
     "data": {
      "text/plain": [
       "'ABCD '"
      ]
     },
     "execution_count": 97,
     "metadata": {},
     "output_type": "execute_result"
    }
   ],
   "source": [
    "b = ' ABCD '\n",
    "b.lstrip()#左删空格"
   ]
  },
  {
   "cell_type": "code",
   "execution_count": 98,
   "metadata": {},
   "outputs": [
    {
     "data": {
      "text/plain": [
       "' abcd'"
      ]
     },
     "execution_count": 98,
     "metadata": {},
     "output_type": "execute_result"
    }
   ],
   "source": [
    "b = ' abcd '\n",
    "b.rstrip()#右删空格"
   ]
  },
  {
   "cell_type": "code",
   "execution_count": 99,
   "metadata": {},
   "outputs": [
    {
     "data": {
      "text/plain": [
       "'abcd'"
      ]
     },
     "execution_count": 99,
     "metadata": {},
     "output_type": "execute_result"
    }
   ],
   "source": [
    "b = ' abcd '\n",
    "b.strip()#左右都删空格"
   ]
  },
  {
   "cell_type": "markdown",
   "metadata": {},
   "source": [
    "## 格式化字符串\n",
    "![](../Photo/103.png)"
   ]
  },
  {
   "cell_type": "markdown",
   "metadata": {},
   "source": [
    "## EP:\n",
    "- 1\n",
    "![](../Photo/104.png)\n",
    "- 2 \n",
    "    随机参数100个数字，将www.baidu.com/?page=进行拼接"
   ]
  },
  {
   "cell_type": "markdown",
   "metadata": {},
   "source": [
    "## Python高级使用方法 -- 字符串\n",
    "- 我们经常使用的方法实际上就是调用Python的运算重载\n",
    "![](../Photo/105.png)"
   ]
  },
  {
   "cell_type": "markdown",
   "metadata": {},
   "source": [
    "# Homework\n",
    "- 1\n",
    "![](../Photo/106.png)"
   ]
  },
  {
   "cell_type": "code",
   "execution_count": 5,
   "metadata": {},
   "outputs": [],
   "source": [
    "def num_():\n",
    "    num=input('输入数字')\n",
    "    if num==num_:\n",
    "        print('Valid SSN')\n",
    "    else:\n",
    "        print('Invalid SSN')"
   ]
  },
  {
   "cell_type": "code",
   "execution_count": 6,
   "metadata": {},
   "outputs": [
    {
     "name": "stdout",
     "output_type": "stream",
     "text": [
      "输入数字123-12-1234\n",
      "Invalid SSN\n"
     ]
    }
   ],
   "source": [
    "num_()"
   ]
  },
  {
   "cell_type": "markdown",
   "metadata": {},
   "source": [
    "- 2\n",
    "![](../Photo/107.png)"
   ]
  },
  {
   "cell_type": "code",
   "execution_count": 32,
   "metadata": {},
   "outputs": [
    {
     "name": "stdout",
     "output_type": "stream",
     "text": [
      ">>nihao\n",
      ">>ni\n",
      "是\n"
     ]
    }
   ],
   "source": [
    "a = str(input('>>'))\n",
    "b = str(input('>>'))\n",
    "if a.find (b)!= -1:\n",
    "    print('是')\n",
    "else:\n",
    "    print('不是')"
   ]
  },
  {
   "cell_type": "markdown",
   "metadata": {},
   "source": [
    "- 3\n",
    "![](../Photo/108.png)"
   ]
  },
  {
   "cell_type": "code",
   "execution_count": 14,
   "metadata": {},
   "outputs": [],
   "source": [
    "def Check():\n",
    "    a = input('请输入密码')\n",
    "    N = len(a)\n",
    "    N1,N2,N3 = 0,0,0\n",
    "    for i in a:\n",
    "        if i.isupper():\n",
    "            N1+=1\n",
    "        elif i.islower():\n",
    "            N2+=1\n",
    "        elif i.isdigit():\n",
    "            N3+=1\n",
    "    if N1 == 0:\n",
    "        print('密码必须含有大写英文')\n",
    "    if N2 == 0:\n",
    "        print('密码必须含有小写英文')\n",
    "    if N3 <=8 :\n",
    "        print('密码必须超过8位')"
   ]
  },
  {
   "cell_type": "code",
   "execution_count": 15,
   "metadata": {},
   "outputs": [
    {
     "name": "stdout",
     "output_type": "stream",
     "text": [
      "请输入密码Aa123456778\n"
     ]
    }
   ],
   "source": [
    "Check()"
   ]
  },
  {
   "cell_type": "markdown",
   "metadata": {},
   "source": [
    "- 4\n",
    "![](../Photo/109.png)"
   ]
  },
  {
   "cell_type": "code",
   "execution_count": 83,
   "metadata": {},
   "outputs": [
    {
     "data": {
      "text/plain": [
       "'\\nfor 循环\\nif条件判断\\n如果有大写字母自加1\\n如果有小写字母自加1\\nreturn\\n---------\\nN\\n'"
      ]
     },
     "execution_count": 83,
     "metadata": {},
     "output_type": "execute_result"
    }
   ],
   "source": [
    "def char_():\n",
    "    \"\"\"\n",
    "    Define Function\n",
    "    \"\"\"\n",
    "    b=str(input('>>'))\n",
    "    \"\"\"\n",
    "    输入一串字符串\n",
    "    \n",
    "    \"\"\"\n",
    "    N=0#计数\n",
    "    for i in b:\n",
    "        if i.isupper():\n",
    "            N+=1\n",
    "        if i.islower():\n",
    "            N+=1\n",
    "    return N\n",
    "\n",
    "\"\"\"\n",
    "for 循环\n",
    "if条件判断\n",
    "如果有大写字母自加1\n",
    "如果有小写字母自加1\n",
    "return\n",
    "---------\n",
    "N\n",
    "\"\"\""
   ]
  },
  {
   "cell_type": "code",
   "execution_count": 84,
   "metadata": {},
   "outputs": [
    {
     "name": "stdout",
     "output_type": "stream",
     "text": [
      ">>ty  \n"
     ]
    },
    {
     "data": {
      "text/plain": [
       "2"
      ]
     },
     "execution_count": 84,
     "metadata": {},
     "output_type": "execute_result"
    }
   ],
   "source": [
    "char_()"
   ]
  },
  {
   "cell_type": "markdown",
   "metadata": {},
   "source": [
    "- 5\n",
    "![](../Photo/110.png)"
   ]
  },
  {
   "cell_type": "markdown",
   "metadata": {},
   "source": [
    "- 6\n",
    "![](../Photo/111.png)"
   ]
  },
  {
   "cell_type": "code",
   "execution_count": 76,
   "metadata": {},
   "outputs": [],
   "source": [
    "class Solution():\n",
    "    def reverse(self, s):\n",
    "        if len(s) > 1:\n",
    "            reversed_s = ''.join(reversed(s))\n",
    "            return reversed_s \n",
    "        return s"
   ]
  },
  {
   "cell_type": "code",
   "execution_count": 77,
   "metadata": {},
   "outputs": [],
   "source": [
    "linyuxin=Solution()"
   ]
  },
  {
   "cell_type": "code",
   "execution_count": 78,
   "metadata": {},
   "outputs": [
    {
     "data": {
      "text/plain": [
       "'xin'"
      ]
     },
     "execution_count": 78,
     "metadata": {},
     "output_type": "execute_result"
    }
   ],
   "source": [
    "linyuxin.reverse('nix')"
   ]
  },
  {
   "cell_type": "markdown",
   "metadata": {},
   "source": [
    "- 7\n",
    "![](../Photo/112.png)"
   ]
  },
  {
   "cell_type": "code",
   "execution_count": null,
   "metadata": {},
   "outputs": [],
   "source": []
  },
  {
   "cell_type": "markdown",
   "metadata": {},
   "source": [
    "- 8\n",
    "![](../Photo/113.png)"
   ]
  },
  {
   "cell_type": "code",
   "execution_count": 103,
   "metadata": {},
   "outputs": [],
   "source": [
    "class num_():\n",
    "    def num(self,d1,d2,d3,d4,d5,d6,d7,d8,d9,d10,d11,d12):\n",
    "        self.d1 = d1\n",
    "        self.d2 = d2\n",
    "        self.d3 = d3\n",
    "        self.d4 = d4\n",
    "        self.d5 = d5\n",
    "        self.d6 = d6\n",
    "        self.d7 = d7\n",
    "        self.d8 = d8\n",
    "        self.d9 = d9\n",
    "        self.d10 = d10\n",
    "        self.d11 = d11\n",
    "        self.d12 = d12\n",
    "        d13 = 10-(d1+3*d2*d3+3*d4+d5+3*d6+d7+3*d8+d9+3*d10+d11+3*d12)%10\n",
    "        if d13 == 10:\n",
    "            d13.replace('10','0')\n",
    "            print(self.d1,self.d2,self.d3,self.d4,self.d5,self.d6,self.d7,self.d8,self.d9,self.d10,self.d11,self.d12,d13)"
   ]
  },
  {
   "cell_type": "code",
   "execution_count": 104,
   "metadata": {},
   "outputs": [],
   "source": [
    "linyuxin=num_()"
   ]
  },
  {
   "cell_type": "code",
   "execution_count": 105,
   "metadata": {},
   "outputs": [],
   "source": [
    "linyuxin.num(1,2,3,4,5,6,7,8,9,1,2,3)"
   ]
  },
  {
   "cell_type": "markdown",
   "metadata": {},
   "source": [
    "- 9\n",
    "![](../Photo/114.png)"
   ]
  },
  {
   "cell_type": "code",
   "execution_count": null,
   "metadata": {},
   "outputs": [],
   "source": []
  }
 ],
 "metadata": {
  "kernelspec": {
   "display_name": "Python 3",
   "language": "python",
   "name": "python3"
  },
  "language_info": {
   "codemirror_mode": {
    "name": "ipython",
    "version": 3
   },
   "file_extension": ".py",
   "mimetype": "text/x-python",
   "name": "python",
   "nbconvert_exporter": "python",
   "pygments_lexer": "ipython3",
   "version": "3.7.3"
  }
 },
 "nbformat": 4,
 "nbformat_minor": 2
}
