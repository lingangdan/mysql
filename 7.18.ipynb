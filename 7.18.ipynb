{
 "cells": [
  {
   "cell_type": "markdown",
   "metadata": {},
   "source": [
    "# 选择\n",
    "## 布尔类型、数值和表达式\n",
    "![](../Photo/33.png)\n",
    "- 注意：比较运算符的相等是两个等号，一个等到代表赋值\n",
    "- 在Python中可以用整型0来代表False，其他数字来代表True\n",
    "- 后面还会讲到 is 在判断语句中的用发"
   ]
  },
  {
   "cell_type": "code",
   "execution_count": null,
   "metadata": {},
   "outputs": [],
   "source": [
    "#=赋值\n",
    "#==等于"
   ]
  },
  {
   "cell_type": "code",
   "execution_count": 4,
   "metadata": {},
   "outputs": [
    {
     "data": {
      "text/plain": [
       "False"
      ]
     },
     "execution_count": 4,
     "metadata": {},
     "output_type": "execute_result"
    }
   ],
   "source": [
    "1 =='1'"
   ]
  },
  {
   "cell_type": "code",
   "execution_count": 5,
   "metadata": {},
   "outputs": [
    {
     "data": {
      "text/plain": [
       "True"
      ]
     },
     "execution_count": 5,
     "metadata": {},
     "output_type": "execute_result"
    }
   ],
   "source": [
    "1!='1'"
   ]
  },
  {
   "cell_type": "code",
   "execution_count": 6,
   "metadata": {},
   "outputs": [
    {
     "data": {
      "text/plain": [
       "False"
      ]
     },
     "execution_count": 6,
     "metadata": {},
     "output_type": "execute_result"
    }
   ],
   "source": [
    "1>1.0"
   ]
  },
  {
   "cell_type": "code",
   "execution_count": 7,
   "metadata": {},
   "outputs": [
    {
     "data": {
      "text/plain": [
       "True"
      ]
     },
     "execution_count": 7,
     "metadata": {},
     "output_type": "execute_result"
    }
   ],
   "source": [
    "1<=2<=3#其他语言必须用and"
   ]
  },
  {
   "cell_type": "code",
   "execution_count": null,
   "metadata": {},
   "outputs": [],
   "source": [
    "bool#true或者false"
   ]
  },
  {
   "cell_type": "code",
   "execution_count": 8,
   "metadata": {},
   "outputs": [
    {
     "data": {
      "text/plain": [
       "True"
      ]
     },
     "execution_count": 8,
     "metadata": {},
     "output_type": "execute_result"
    }
   ],
   "source": [
    "bool('Jelly')"
   ]
  },
  {
   "cell_type": "code",
   "execution_count": null,
   "metadata": {},
   "outputs": [],
   "source": [
    "while True#死循环"
   ]
  },
  {
   "cell_type": "code",
   "execution_count": 12,
   "metadata": {},
   "outputs": [],
   "source": [
    "while 0:\n",
    "     print('jelly')"
   ]
  },
  {
   "cell_type": "code",
   "execution_count": 14,
   "metadata": {},
   "outputs": [
    {
     "name": "stdout",
     "output_type": "stream",
     "text": [
      "140705746883392 140705746883392\n"
     ]
    }
   ],
   "source": [
    "a = id(1)\n",
    "b = id(1)#因为a和b不是同一对象，所以a is b错误\n",
    "print(a,b)"
   ]
  },
  {
   "cell_type": "code",
   "execution_count": 15,
   "metadata": {},
   "outputs": [
    {
     "data": {
      "text/plain": [
       "False"
      ]
     },
     "execution_count": 15,
     "metadata": {},
     "output_type": "execute_result"
    }
   ],
   "source": [
    "a is b#内存是死的，用is比较"
   ]
  },
  {
   "cell_type": "code",
   "execution_count": null,
   "metadata": {},
   "outputs": [],
   "source": [
    "a = True\n",
    "b = False"
   ]
  },
  {
   "cell_type": "code",
   "execution_count": 16,
   "metadata": {},
   "outputs": [
    {
     "data": {
      "text/plain": [
       "True"
      ]
     },
     "execution_count": 16,
     "metadata": {},
     "output_type": "execute_result"
    }
   ],
   "source": [
    "a==b"
   ]
  },
  {
   "cell_type": "code",
   "execution_count": 17,
   "metadata": {},
   "outputs": [
    {
     "data": {
      "text/plain": [
       "140705746360656"
      ]
     },
     "execution_count": 17,
     "metadata": {},
     "output_type": "execute_result"
    }
   ],
   "source": [
    "id(True)"
   ]
  },
  {
   "cell_type": "code",
   "execution_count": 19,
   "metadata": {},
   "outputs": [
    {
     "data": {
      "text/plain": [
       "True"
      ]
     },
     "execution_count": 19,
     "metadata": {},
     "output_type": "execute_result"
    }
   ],
   "source": [
    "a = id(1)\n",
    "b = a\n",
    "a is b#这样就可以比较了，就是true"
   ]
  },
  {
   "cell_type": "markdown",
   "metadata": {},
   "source": [
    "## 字符串的比较使用ASCII值"
   ]
  },
  {
   "cell_type": "code",
   "execution_count": 21,
   "metadata": {},
   "outputs": [
    {
     "data": {
      "text/plain": [
       "False"
      ]
     },
     "execution_count": 21,
     "metadata": {},
     "output_type": "execute_result"
    }
   ],
   "source": [
    "a = \"Jelly\"\n",
    "b = \"jelly\"\n",
    "a>b#7.17看去J和j谁在前"
   ]
  },
  {
   "cell_type": "code",
   "execution_count": 23,
   "metadata": {},
   "outputs": [
    {
     "data": {
      "text/plain": [
       "True"
      ]
     },
     "execution_count": 23,
     "metadata": {},
     "output_type": "execute_result"
    }
   ],
   "source": [
    "a = \"joker\"\n",
    "b = \"jokar\"\n",
    "a>b"
   ]
  },
  {
   "cell_type": "markdown",
   "metadata": {},
   "source": [
    "## Markdown \n",
    "- https://github.com/younghz/Markdown"
   ]
  },
  {
   "cell_type": "code",
   "execution_count": null,
   "metadata": {},
   "outputs": [],
   "source": [
    "#自己查百度去"
   ]
  },
  {
   "cell_type": "markdown",
   "metadata": {},
   "source": [
    "## EP:\n",
    "- <img src=\"../Photo/34.png\"></img>\n",
    "- 输入一个数字，判断其实奇数还是偶数"
   ]
  },
  {
   "cell_type": "code",
   "execution_count": 26,
   "metadata": {},
   "outputs": [],
   "source": [
    "i = int(True)\n",
    "j = int(False)"
   ]
  },
  {
   "cell_type": "code",
   "execution_count": 27,
   "metadata": {},
   "outputs": [],
   "source": [
    "b1 = bool(4)\n",
    "b2 = bool(0)"
   ]
  },
  {
   "cell_type": "markdown",
   "metadata": {},
   "source": [
    "## 产生随机数字\n",
    "- 函数random.randint(a,b) 可以用来产生一个a和b之间且包括a和b的随机整数"
   ]
  },
  {
   "cell_type": "code",
   "execution_count": 28,
   "metadata": {},
   "outputs": [],
   "source": [
    "import random"
   ]
  },
  {
   "cell_type": "code",
   "execution_count": 30,
   "metadata": {},
   "outputs": [
    {
     "data": {
      "text/plain": [
       "1"
      ]
     },
     "execution_count": 30,
     "metadata": {},
     "output_type": "execute_result"
    }
   ],
   "source": [
    "random.randint(0,1)"
   ]
  },
  {
   "cell_type": "code",
   "execution_count": 31,
   "metadata": {},
   "outputs": [
    {
     "data": {
      "text/plain": [
       "0"
      ]
     },
     "execution_count": 31,
     "metadata": {},
     "output_type": "execute_result"
    }
   ],
   "source": [
    "random.randint(0,2)"
   ]
  },
  {
   "cell_type": "markdown",
   "metadata": {},
   "source": [
    "产生一个随机数，你去输入，如果你输入的数大于随机数，那么就告诉你太大了，反之，太小了，\n",
    "然后你一直输入，知道它满意为止"
   ]
  },
  {
   "cell_type": "code",
   "execution_count": null,
   "metadata": {},
   "outputs": [],
   "source": [
    "#逢冒必缩"
   ]
  },
  {
   "cell_type": "code",
   "execution_count": 71,
   "metadata": {},
   "outputs": [
    {
     "name": "stdout",
     "output_type": "stream",
     "text": [
      "请随机输入一个数字3\n",
      "输入的数字过小\n"
     ]
    }
   ],
   "source": [
    "import random\n",
    "number = random.randint(0,10)\n",
    "suijishu = eval(input('请随机输入一个数字'))\n",
    "if  number<suijishu:\n",
    "    print('输入的数字过大')\n",
    "else:\n",
    "    number>suijishu\n",
    "    print('输入的数字过小')"
   ]
  },
  {
   "cell_type": "code",
   "execution_count": 84,
   "metadata": {},
   "outputs": [
    {
     "name": "stdout",
     "output_type": "stream",
     "text": [
      ">>0\n",
      "输入的数字过小\n",
      ">>1\n",
      "输入的数字过小\n",
      ">>2\n",
      "输入的数字过大\n",
      ">>3\n",
      "输入的数字过大\n",
      ">>4\n",
      "输入的数字过大\n"
     ]
    }
   ],
   "source": [
    "for i in range(5):\n",
    "    input_ = eval(input('>>'))\n",
    "    number = random.randint(0,10)\n",
    "    if input_> number:\n",
    "        print('输入的数字过大')\n",
    "    if input_<number:\n",
    "        print('输入的数字过小')\n",
    "    if number == input_:\n",
    "        print('正好')\n",
    "        break"
   ]
  },
  {
   "cell_type": "code",
   "execution_count": null,
   "metadata": {},
   "outputs": [],
   "source": [
    "if condition:\n",
    "    do something\n",
    "else:\n",
    "    other#if的用法"
   ]
  },
  {
   "cell_type": "code",
   "execution_count": null,
   "metadata": {},
   "outputs": [],
   "source": [
    "for iter_in xxx:\n",
    "    do something#for的用法"
   ]
  },
  {
   "cell_type": "code",
   "execution_count": 46,
   "metadata": {},
   "outputs": [
    {
     "name": "stdout",
     "output_type": "stream",
     "text": [
      "name1*2\n",
      "2\n"
     ]
    }
   ],
   "source": [
    "Jelly = eval(input('name'))\n",
    "print(Jelly)"
   ]
  },
  {
   "cell_type": "code",
   "execution_count": 47,
   "metadata": {},
   "outputs": [
    {
     "name": "stdout",
     "output_type": "stream",
     "text": [
      "nameage\n",
      "10\n"
     ]
    }
   ],
   "source": [
    "age = 10\n",
    "Jelly = eval(input('name'))\n",
    "print(Jelly)"
   ]
  },
  {
   "cell_type": "markdown",
   "metadata": {},
   "source": [
    "##  其他random方法\n",
    "- random.random 返回0.0到1.0之间前闭后开区间的随机浮点\n",
    "- random.randrange(a,b) 前闭后开"
   ]
  },
  {
   "cell_type": "code",
   "execution_count": 85,
   "metadata": {},
   "outputs": [
    {
     "data": {
      "text/plain": [
       "0.6494393175726543"
      ]
     },
     "execution_count": 85,
     "metadata": {},
     "output_type": "execute_result"
    }
   ],
   "source": [
    "random.random()"
   ]
  },
  {
   "cell_type": "code",
   "execution_count": null,
   "metadata": {},
   "outputs": [],
   "source": [
    "import matplotlib.pyplot as plt"
   ]
  },
  {
   "cell_type": "markdown",
   "metadata": {},
   "source": [
    "## EP：\n",
    "- 产生两个随机整数number1和number2，然后显示给用户，使用户输入数字的和，并判定其是否正确\n",
    "- 进阶:写一个随机序号点名程序"
   ]
  },
  {
   "cell_type": "code",
   "execution_count": 5,
   "metadata": {},
   "outputs": [
    {
     "name": "stdout",
     "output_type": "stream",
     "text": [
      "number1>>5\n",
      "number2>>9\n",
      "请输入两数字的和12\n",
      "错误\n"
     ]
    }
   ],
   "source": [
    "import random\n",
    "number1 = random.randint(0,50)\n",
    "number2 = random.randint(0,50)\n",
    "number1 = eval(input('number1>>'))\n",
    "number2 = eval(input('number2>>'))\n",
    "number = eval(input('请输入两数字的和'))\n",
    "a = number1 + number2\n",
    "if number == a:\n",
    "    print(a)\n",
    "    print('正确')\n",
    "else:\n",
    "    print(a)\n",
    "    print('错误')"
   ]
  },
  {
   "cell_type": "code",
   "execution_count": null,
   "metadata": {},
   "outputs": [],
   "source": []
  },
  {
   "cell_type": "markdown",
   "metadata": {},
   "source": [
    "## if语句\n",
    "- 如果条件正确就执行一个单向if语句，亦即当条件为真的时候才执行if内部的语句\n",
    "- Python有很多选择语句:\n",
    "> - 单向if \n",
    "  - 双向if-else\n",
    "  - 嵌套if\n",
    "  - 多向if-elif-else\n",
    "  \n",
    "- 注意：当语句含有子语句的时候，那么一定至少要有一个缩进，也就是说如果有儿子存在，那么一定要缩进\n",
    "- 切记不可tab键和space混用，单用tab 或者 space\n",
    "- 当你输出的结果是无论if是否为真时都需要显示时，语句应该与if对齐"
   ]
  },
  {
   "cell_type": "code",
   "execution_count": 37,
   "metadata": {},
   "outputs": [
    {
     "ename": "SyntaxError",
     "evalue": "invalid syntax (<ipython-input-37-4623a0314a39>, line 12)",
     "output_type": "error",
     "traceback": [
      "\u001b[1;36m  File \u001b[1;32m\"<ipython-input-37-4623a0314a39>\"\u001b[1;36m, line \u001b[1;32m12\u001b[0m\n\u001b[1;33m    if b = laopo:\u001b[0m\n\u001b[1;37m         ^\u001b[0m\n\u001b[1;31mSyntaxError\u001b[0m\u001b[1;31m:\u001b[0m invalid syntax\n"
     ]
    }
   ],
   "source": [
    "age = eval(input('是否年轻'))\n",
    "for i in range:\n",
    "    1>24\n",
    "    print('老')\n",
    "    end\n",
    "else:\n",
    "    print('年轻')\n",
    "b = laopo\n",
    "if age == young:\n",
    "        zhangxiang = shuai\n",
    "        print('是')\n",
    "if b = laopo:\n",
    "        print('回家的诱惑')\n",
    "else:\n",
    "        print('马上结婚')\n",
    "else:\n",
    "    print('老')\n",
    "    print('拜拜')"
   ]
  },
  {
   "cell_type": "code",
   "execution_count": 52,
   "metadata": {},
   "outputs": [
    {
     "ename": "IndentationError",
     "evalue": "expected an indented block (<ipython-input-52-a455b2947811>, line 4)",
     "output_type": "error",
     "traceback": [
      "\u001b[1;36m  File \u001b[1;32m\"<ipython-input-52-a455b2947811>\"\u001b[1;36m, line \u001b[1;32m4\u001b[0m\n\u001b[1;33m    if i<24:\u001b[0m\n\u001b[1;37m     ^\u001b[0m\n\u001b[1;31mIndentationError\u001b[0m\u001b[1;31m:\u001b[0m expected an indented block\n"
     ]
    }
   ],
   "source": [
    "age = eval(input('请输入年龄'))\n",
    "age = young\n",
    "for i in range:\n",
    "    if i<24:\n",
    "        print('年轻')\n",
    "zhangxiang = eval(input('帅不帅'))\n",
    "zhangxiang = shuai\n",
    "        if zhangxiang == shuai:\n",
    "            print('是')\n",
    "        else:\n",
    "            print('考虑一下')\n",
    "laopo = eval(input('有无老婆'))\n",
    "laopo = you\n",
    "        if laopo == you:\n",
    "            print('回家的诱惑')\n",
    "        else:\n",
    "            print('马上结婚')\n",
    "    else:\n",
    "        print('老')\n",
    "        print('拜拜')"
   ]
  },
  {
   "cell_type": "code",
   "execution_count": 87,
   "metadata": {},
   "outputs": [
    {
     "name": "stdout",
     "output_type": "stream",
     "text": [
      "youngyoung\n",
      "shuaishuai\n",
      "laopolaopo\n",
      "年轻\n",
      "是\n",
      "回家的诱惑\n"
     ]
    }
   ],
   "source": [
    "young = input('young')\n",
    "shuai = input('shuai')\n",
    "laopo = input('laopo')\n",
    "age = young\n",
    "zhangxiang = shuai\n",
    "laopo = laopo\n",
    "if age == young:\n",
    "    print('年轻')\n",
    "else:\n",
    "    print('老')\n",
    "    print('拜拜')\n",
    "if zhangxiang == shuai:\n",
    "    print('是')\n",
    "else:\n",
    "    print('考虑一下')\n",
    "if laopo == laopo:\n",
    "    print('回家的诱惑')\n",
    "else:\n",
    "    print('马上结婚')"
   ]
  },
  {
   "cell_type": "code",
   "execution_count": 91,
   "metadata": {},
   "outputs": [
    {
     "name": "stdout",
     "output_type": "stream",
     "text": [
      "年轻嘛{y/n}y\n",
      "帅否{y/n}y\n",
      "有没有老婆{y/n}y\n",
      "回家的诱惑\n"
     ]
    }
   ],
   "source": [
    "age = input('年轻嘛{y/n}')#yes or no\n",
    "if age == 'y':\n",
    "    handsome = input('帅否{y/n}')\n",
    "    if handsome == 'y':\n",
    "        wife = input('有没有老婆{y/n}')\n",
    "        if wife == 'y':\n",
    "            print('回家的诱惑')\n",
    "        else:\n",
    "            print('马上结婚')\n",
    "    else:\n",
    "                print('考虑一下')\n",
    "else:\n",
    "    print('拜拜~')\n",
    "    "
   ]
  },
  {
   "cell_type": "markdown",
   "metadata": {},
   "source": [
    "## EP：\n",
    "- 用户输入一个数字，判断其实奇数还是偶数\n",
    "- 进阶：可以查看下4.5实例研究猜生日"
   ]
  },
  {
   "cell_type": "markdown",
   "metadata": {},
   "source": [
    "## 双向if-else 语句\n",
    "- 如果条件为真，那么走if内部语句，否则走else内部语句"
   ]
  },
  {
   "cell_type": "markdown",
   "metadata": {},
   "source": [
    "## EP：\n",
    "- 产生两个随机整数number1和number2，然后显示给用户，使用户输入数字，并判定其是否正确,如果正确打印“you‘re correct”，否则打印正确错误"
   ]
  },
  {
   "cell_type": "markdown",
   "metadata": {},
   "source": [
    "## 嵌套if 和多向if-elif-else\n",
    "![](../Photo/35.png)"
   ]
  },
  {
   "cell_type": "code",
   "execution_count": null,
   "metadata": {},
   "outputs": [],
   "source": [
    "#层次划分的话，先写大数，再写小数"
   ]
  },
  {
   "cell_type": "markdown",
   "metadata": {},
   "source": [
    "## EP：\n",
    "- 提示用户输入一个年份，然后显示表示这一年的动物\n",
    "![](../Photo/36.png)\n",
    "- 计算身体质量指数的程序\n",
    "- BMI = 以千克为单位的体重除以以米为单位的身高的平方\n",
    "![](../Photo/37.png)"
   ]
  },
  {
   "cell_type": "code",
   "execution_count": 104,
   "metadata": {},
   "outputs": [
    {
     "name": "stdout",
     "output_type": "stream",
     "text": [
      "请输入自己的体重48\n",
      "请输入自己的身高160\n",
      "超轻\n"
     ]
    }
   ],
   "source": [
    "weigh = eval(input('请输入自己的体重'))\n",
    "high = eval(input('请输入自己的身高'))\n",
    "BMI = weigh/(high*high)\n",
    "if BMI<18.5:\n",
    "    print('超轻')\n",
    "elif 18.5<=BMI<25.0:#冒号注意\n",
    "    print('标准')\n",
    "elif 25.0<=BMI<30.0:\n",
    "    print('超重')\n",
    "elif BMI>=30.0:\n",
    "    print('痴肥')"
   ]
  },
  {
   "cell_type": "code",
   "execution_count": 110,
   "metadata": {},
   "outputs": [
    {
     "name": "stdout",
     "output_type": "stream",
     "text": [
      "请输入年份1998\n",
      "虎\n"
     ]
    }
   ],
   "source": [
    "year = eval(input('请输入年份'))\n",
    "if year % 12 == 0:\n",
    "        print('猴')\n",
    "elif year % 12 == 1:\n",
    "        print('鸡')\n",
    "elif year % 12 == 2:\n",
    "        print('狗')\n",
    "elif year % 12 == 3:\n",
    "        print('猪')\n",
    "elif year % 12 == 4:\n",
    "        print('鼠')\n",
    "elif year % 12 == 5:\n",
    "        print('牛')\n",
    "elif year % 12 == 6:\n",
    "        print('虎')\n",
    "elif year % 12 == 7:\n",
    "        print('兔')\n",
    "elif year % 12 == 8:\n",
    "        print('龙')\n",
    "elif year % 12 == 9:\n",
    "        print('蛇')\n",
    "elif year % 12 == 10:\n",
    "        print('马')\n",
    "elif year % 12 == 11:\n",
    "        print('羊')              "
   ]
  },
  {
   "cell_type": "markdown",
   "metadata": {},
   "source": [
    "## 逻辑运算符\n",
    "![](../Photo/38.png)"
   ]
  },
  {
   "cell_type": "markdown",
   "metadata": {},
   "source": [
    "![](../Photo/39.png)\n",
    "![](../Photo/40.png)"
   ]
  },
  {
   "cell_type": "markdown",
   "metadata": {},
   "source": [
    "## EP：\n",
    "- 判定闰年：一个年份如果能被4整除但不能被100整除，或者能被400整除，那么这个年份就是闰年\n",
    "- 提示用户输入一个年份，并返回是否是闰年\n",
    "- 提示用户输入一个数字，判断其是否为水仙花数"
   ]
  },
  {
   "cell_type": "code",
   "execution_count": 118,
   "metadata": {},
   "outputs": [
    {
     "name": "stdout",
     "output_type": "stream",
     "text": [
      "请输入年份1998\n",
      "平年\n"
     ]
    }
   ],
   "source": [
    "year = eval(input('请输入年份'))\n",
    "if  year % 4 == 0:\n",
    "    not year % 100 == 0\n",
    "    print('闰年')\n",
    "else:\n",
    "    print('平年')"
   ]
  },
  {
   "cell_type": "code",
   "execution_count": 122,
   "metadata": {},
   "outputs": [
    {
     "name": "stdout",
     "output_type": "stream",
     "text": [
      "请输入年份2009\n",
      "平年\n"
     ]
    }
   ],
   "source": [
    "year = eval(input('请输入年份'))\n",
    "\n",
    "if (year % 4 == 0 and year % 100 != 0) or(year%400==0):\n",
    "    print('闰年')\n",
    "else:\n",
    "    print('平年')"
   ]
  },
  {
   "cell_type": "code",
   "execution_count": 119,
   "metadata": {},
   "outputs": [
    {
     "name": "stdout",
     "output_type": "stream",
     "text": [
      ">>123\n",
      "不是水仙花\n"
     ]
    }
   ],
   "source": [
    "Number = eval(input('>>'))\n",
    "\n",
    "bai = Number // 100\n",
    "shi = Number // 10%10\n",
    "ge = Number // 10\n",
    "\n",
    "if bai**3+shi**3+ge**3 == Number:\n",
    "    print('水仙花')\n",
    "else:\n",
    "    print('不是水仙花')"
   ]
  },
  {
   "cell_type": "markdown",
   "metadata": {},
   "source": [
    "## 实例研究：彩票\n",
    "![](../Photo/41.png)"
   ]
  },
  {
   "cell_type": "code",
   "execution_count": null,
   "metadata": {},
   "outputs": [],
   "source": [
    "import random\n",
    "number1 = random.randint(10,99)\n",
    "number2 = random.randint(10,99)\n",
    "number1 = eval(input('number1>>'))\n",
    "number2 = eval(input('number2>>'))\n",
    "number = eval(input('请随机输入两个数字'))\n",
    "number = "
   ]
  },
  {
   "cell_type": "code",
   "execution_count": 123,
   "metadata": {},
   "outputs": [
    {
     "data": {
      "text/plain": [
       "1"
      ]
     },
     "execution_count": 123,
     "metadata": {},
     "output_type": "execute_result"
    }
   ],
   "source": [
    "12//10#拿出来的是十位"
   ]
  },
  {
   "cell_type": "code",
   "execution_count": 124,
   "metadata": {},
   "outputs": [
    {
     "data": {
      "text/plain": [
       "2"
      ]
     },
     "execution_count": 124,
     "metadata": {},
     "output_type": "execute_result"
    }
   ],
   "source": [
    "12%10#拿出来的是个位"
   ]
  },
  {
   "cell_type": "markdown",
   "metadata": {},
   "source": [
    "# Homework\n",
    "- 1\n",
    "![](../Photo/42.png)"
   ]
  },
  {
   "cell_type": "code",
   "execution_count": 13,
   "metadata": {},
   "outputs": [
    {
     "name": "stdout",
     "output_type": "stream",
     "text": [
      "请分别输入a,b,c的值1,2.0,1\n",
      "此方程有两个相等实根\n",
      "The roots is -1.0\n"
     ]
    }
   ],
   "source": [
    "a,b,c = eval(input('请分别输入a,b,c的值'))\n",
    "r1 = (-b+pow(b*b-4*a*c,1/2))/2*a\n",
    "r2 = (-b-pow(b*b-4*a*c,1/2))/2*a\n",
    "if b*b-4*a*c>0:\n",
    "    print('此方程有两个实根')\n",
    "    print('The roots are',r1,r2)\n",
    "elif b*b-4*a*c==0:\n",
    "    print('此方程有两个相等实根')\n",
    "    print('The roots is',r1)\n",
    "    round(r1,1)\n",
    "else:\n",
    "    print('The equation has no real roots')"
   ]
  },
  {
   "cell_type": "markdown",
   "metadata": {},
   "source": [
    "- 2\n",
    "![](../Photo/43.png)"
   ]
  },
  {
   "cell_type": "code",
   "execution_count": 1,
   "metadata": {},
   "outputs": [
    {
     "name": "stdout",
     "output_type": "stream",
     "text": [
      "29 42\n",
      "请输入两数字的和45\n",
      "False\n"
     ]
    }
   ],
   "source": [
    "import random\n",
    "number1 = random.randint(0,100)\n",
    "number2 = random.randint(0,100)\n",
    "print(number1,number2)\n",
    "number = number1 + number2\n",
    "a = eval(input('请输入两数字的和'))\n",
    "if a == number:\n",
    "    print('True')\n",
    "else:\n",
    "    print('False')"
   ]
  },
  {
   "cell_type": "markdown",
   "metadata": {},
   "source": [
    "- 3\n",
    "![](../Photo/44.png)"
   ]
  },
  {
   "cell_type": "code",
   "execution_count": 2,
   "metadata": {},
   "outputs": [
    {
     "name": "stdout",
     "output_type": "stream",
     "text": [
      "输入今天是星期几：3\n",
      "今天之后到未来某天的天数:23\n",
      "Today is 3 and the future day is Friday\n"
     ]
    }
   ],
   "source": [
    "today = eval(input('输入今天是星期几：'))\n",
    "n = eval(input('今天之后到未来某天的天数:'))\n",
    "day_f = (today + n) % 7\n",
    "if day_f == 0:\n",
    "    print('Today is',today,'and the future day is Sunday')\n",
    "elif day_f == 1:\n",
    "    print('Today is',today,'and the future day is Monday')\n",
    "elif day_f == 2:\n",
    "    print('Today is',today,'and the future day is Tuesday')\n",
    "elif day_f == 3:\n",
    "    print('Today is',today,'and the future day is Wednesday')\n",
    "elif day_f == 4:\n",
    "    print('Today is',today,'and the future day is Thursday')\n",
    "elif day_f == 5:\n",
    "    print('Today is',today,'and the future day is Friday')\n",
    "elif day_f == 6:\n",
    "    print('Today is',today,'and the future day is Saturday')"
   ]
  },
  {
   "cell_type": "markdown",
   "metadata": {},
   "source": [
    "- 4\n",
    "![](../Photo/45.png)"
   ]
  },
  {
   "cell_type": "code",
   "execution_count": 30,
   "metadata": {},
   "outputs": [
    {
     "name": "stdout",
     "output_type": "stream",
     "text": [
      "请输入第一个数：12\n",
      "请输入第二个数：34\n",
      "请输入第三个 数：55\n",
      "[12, 34, 55]\n"
     ]
    }
   ],
   "source": [
    "num1 = int(input('请输入第一个数：'))\n",
    "num2 = int(input('请输入第二个数：'))\n",
    "num3 = int(input('请输入第三个数：'))\n",
    "nums =[num1,num2,num3]\n",
    "nums.sort()\n",
    "print(nums)"
   ]
  },
  {
   "cell_type": "markdown",
   "metadata": {},
   "source": [
    "- 5\n",
    "![](../Photo/46.png)"
   ]
  },
  {
   "cell_type": "code",
   "execution_count": 4,
   "metadata": {},
   "outputs": [
    {
     "name": "stdout",
     "output_type": "stream",
     "text": [
      "请输入包装1的质量56\n",
      "请输入包装1的质量67\n",
      "请输入包装2的价钱78\n",
      "请输入包装2的价钱99\n",
      "Package 2 hasthe better price\n"
     ]
    }
   ],
   "source": [
    "import random\n",
    "number = random.randint(0,100)\n",
    "weigh1 = eval(input('请输入包装1的质量'))\n",
    "weigh2 = eval(input('请输入包装1的质量'))\n",
    "price1 = eval(input('请输入包装2的价钱'))\n",
    "price2 = eval(input('请输入包装2的价钱'))\n",
    "weigh1 = random.randint(0,100)\n",
    "weigh1 = random.randint(0,100)\n",
    "price1 = random.randint(0,100)\n",
    "price2 = random.randint(0,100)\n",
    "if price1<price2:\n",
    "    print('Package 2 hasthe better price')\n",
    "else:\n",
    "    print('无 ')"
   ]
  },
  {
   "cell_type": "markdown",
   "metadata": {},
   "source": [
    "- 6\n",
    "![](../Photo/47.png)"
   ]
  },
  {
   "cell_type": "code",
   "execution_count": 26,
   "metadata": {},
   "outputs": [
    {
     "name": "stdout",
     "output_type": "stream",
     "text": [
      "请输入月份3\n",
      "请输入年份2005\n",
      "31天\n"
     ]
    }
   ],
   "source": [
    "import random\n",
    "mouth = random.randint(1,12)\n",
    "mouth = eval(input('请输入月份'))\n",
    "mouth1 = '31天'\n",
    "mouth2 = '29天'\n",
    "year = eval(input('请输入年份'))\n",
    "if  year % 4 == 0:\n",
    "    not year % 100 == 0\n",
    "    mouth = 2\n",
    "    print(mouth2)\n",
    "else:\n",
    "    print(mouth1)"
   ]
  },
  {
   "cell_type": "markdown",
   "metadata": {},
   "source": [
    "- 7\n",
    "![](../Photo/48.png)"
   ]
  },
  {
   "cell_type": "code",
   "execution_count": 84,
   "metadata": {},
   "outputs": [
    {
     "name": "stdout",
     "output_type": "stream",
     "text": [
      "请输入你的猜测值{1/2}2\n",
      "错误 正\n"
     ]
    }
   ],
   "source": [
    "import random\n",
    "number = random.choice(\"正\"or\"反\")\n",
    "正 = 1\n",
    "反 = 2\n",
    "a = eval(input('请输入你的猜测值{1/2}'))\n",
    "if a == number:\n",
    "    print('正确',number)\n",
    "else:\n",
    "    print('错误',number)"
   ]
  },
  {
   "cell_type": "markdown",
   "metadata": {},
   "source": [
    "- 8\n",
    "![](../Photo/49.png)"
   ]
  },
  {
   "cell_type": "code",
   "execution_count": 102,
   "metadata": {},
   "outputs": [
    {
     "name": "stdout",
     "output_type": "stream",
     "text": [
      "请随机输入数字>>0，1,2>>1\n",
      "The computer is 0 You are 1 you won\n",
      "The computer is 0 You are 1 You shule\n"
     ]
    }
   ],
   "source": [
    "import random\n",
    "number = random.randint(0,3)\n",
    "a = eval(input('请随机输入数字>>0，1,2>>'))\n",
    "jiandao = 0\n",
    "shitou = 1\n",
    "bu = 2\n",
    "if a == jiandao and number == bu:\n",
    "    print('The computer is',number,'You are',a,'you won')\n",
    "else:\n",
    "    a == bu and number == shitou or a == shitou and number == jiandao\n",
    "    print('The computer is',number,'You are',a,'you won')\n",
    "if a == shitou and number == bu:\n",
    "    print('The computer is',number,'You are',a,'You shule')\n",
    "else:\n",
    "    a == bu and number == jiandao or a == shitou and number == bu\n",
    "    print('The computer is',number,'You are',a,'You shule')\n",
    "if a == number:\n",
    "    print('The computer is',number,'You are',a,'too it is a draw')"
   ]
  },
  {
   "cell_type": "markdown",
   "metadata": {},
   "source": [
    "- 9\n",
    "![](../Photo/50.png)"
   ]
  },
  {
   "cell_type": "code",
   "execution_count": 38,
   "metadata": {},
   "outputs": [
    {
     "name": "stdout",
     "output_type": "stream",
     "text": [
      "请输入年份：2000\n",
      "请输入月份：3\n",
      "请输入日期：3\n",
      "Day of the week is  3.4000000000000057\n"
     ]
    },
    {
     "data": {
      "text/plain": [
       "3.0"
      ]
     },
     "execution_count": 38,
     "metadata": {},
     "output_type": "execute_result"
    }
   ],
   "source": [
    "import random\n",
    "liu = 0\n",
    "ri = 1\n",
    "yi = 2\n",
    "er = 3\n",
    "san = 4\n",
    "si = 5\n",
    "wu = 6\n",
    "year = eval(input('请输入年份：'))\n",
    "m = eval(input('请输入月份：'))\n",
    "day = eval(input('请输入日期：'))\n",
    "q = random.randint(0,32)\n",
    "k = year % 100\n",
    "j = year / 100\n",
    "l = 5 * j\n",
    "part_1 = 26 * (m + 1) / 10\n",
    "part_2 = k / 4\n",
    "part_3 = j / 4\n",
    "h = (q + part_1 + k + part_2 + part_3 + l) % 7\n",
    "print('Day of the week is ',h)\n",
    "round(h,0)"
   ]
  },
  {
   "cell_type": "markdown",
   "metadata": {},
   "source": [
    "- 10\n",
    "![](../Photo/51.png)"
   ]
  },
  {
   "cell_type": "code",
   "execution_count": 40,
   "metadata": {},
   "outputs": [
    {
     "name": "stdout",
     "output_type": "stream",
     "text": [
      "请在52张牌中任意输入一个数字2\n"
     ]
    }
   ],
   "source": [
    "import random\n",
    "meihau = random.randint(0,12)\n",
    "hongtao = random.randint(13,25)\n",
    "fangkuai = random.randint(26,38)\n",
    "heitao = random.randint(39,51)\n",
    "a = 'Ace'\n",
    "b = 2 \n",
    "c = 3\n",
    "d = 4\n",
    "e = 5\n",
    "f = 6\n",
    "g = 7\n",
    "h = 8\n",
    "i = 9\n",
    "k = 10\n",
    "l = str('Jack')\n",
    "m = str('Queen')\n",
    "n = str('King')\n",
    "o = str('meihua')\n",
    "p = str('hongtao')\n",
    "q = str('fangkuai')\n",
    "r = str('heitao')\n",
    "s = eval(input('请在52张牌中任意输入一个数字'))\n",
    "if s==meihau or s==hongtao or s==fangkuai or s==heitao:\n",
    "    print('The card you picked is the',meihua or hongtao or heitao or fangkuai)"
   ]
  },
  {
   "cell_type": "code",
   "execution_count": 39,
   "metadata": {},
   "outputs": [
    {
     "name": "stdout",
     "output_type": "stream",
     "text": [
      "请在52张牌中任意输入一个数字5\n"
     ]
    }
   ],
   "source": [
    "import random\n",
    "meihau = random.randint(0,12)\n",
    "hongtao = random.randint(13,25)\n",
    "fangkuai = random.randint(26,38)\n",
    "heitao = random.randint(39,51)\n",
    "a = 'Ace'\n",
    "b = 2 \n",
    "c = 3\n",
    "d = 4\n",
    "e = 5\n",
    "f = 6\n",
    "g = 7\n",
    "h = 8\n",
    "i = 9\n",
    "k = 10\n",
    "l = str('Jack')\n",
    "m = str('Queen')\n",
    "n = str('King')\n",
    "o = str('meihua')\n",
    "p = str('hongtao')\n",
    "q = str('fangkuai')\n",
    "r = str('heitao')\n",
    "s = eval(input('请在52张牌中任意输入一个数字'))\n",
    "if s==meihau or s==hongtao or s==fangkuai or s==heitao:\n",
    "    print('The card you picked is the',meihua or hongtao or heitao or fangkuai)"
   ]
  },
  {
   "cell_type": "markdown",
   "metadata": {},
   "source": [
    "- 11\n",
    "![](../Photo/52.png)"
   ]
  },
  {
   "cell_type": "code",
   "execution_count": 14,
   "metadata": {},
   "outputs": [
    {
     "data": {
      "text/plain": [
       "1"
      ]
     },
     "execution_count": 14,
     "metadata": {},
     "output_type": "execute_result"
    }
   ],
   "source": [
    "121%10"
   ]
  },
  {
   "cell_type": "code",
   "execution_count": 11,
   "metadata": {},
   "outputs": [
    {
     "data": {
      "text/plain": [
       "1"
      ]
     },
     "execution_count": 11,
     "metadata": {},
     "output_type": "execute_result"
    }
   ],
   "source": [
    "12//10"
   ]
  },
  {
   "cell_type": "code",
   "execution_count": 19,
   "metadata": {},
   "outputs": [
    {
     "data": {
      "text/plain": [
       "12"
      ]
     },
     "execution_count": 19,
     "metadata": {},
     "output_type": "execute_result"
    }
   ],
   "source": [
    "121//10"
   ]
  },
  {
   "cell_type": "code",
   "execution_count": 21,
   "metadata": {},
   "outputs": [
    {
     "name": "stdout",
     "output_type": "stream",
     "text": [
      "请输入一个三位整数>>121\n",
      "121 is a palindrome\n"
     ]
    }
   ],
   "source": [
    "abc = eval(input('请输入一个三位整数>>'))\n",
    "ge = abc % 10\n",
    "baishi = abc // 10\n",
    "bai = baishi // 10\n",
    "if ge == bai:\n",
    "    print(abc,'is a palindrome')\n",
    "else:\n",
    "    print(abc,'is not a palindrome')"
   ]
  },
  {
   "cell_type": "markdown",
   "metadata": {},
   "source": [
    "- 12\n",
    "![](../Photo/53.png)"
   ]
  },
  {
   "cell_type": "code",
   "execution_count": 9,
   "metadata": {},
   "outputs": [
    {
     "name": "stdout",
     "output_type": "stream",
     "text": [
      "请分别输入三个整数>>0,1,1\n",
      "输入非法\n"
     ]
    }
   ],
   "source": [
    "a,b,c = eval(input('请分别输入三个整数>>'))\n",
    "zhouchang = a+b+c\n",
    "if a+b>c and a+c>b and b+c>a:\n",
    "    print ('The perimeter is',zhouchang)\n",
    "else:\n",
    "    print('输入非法')"
   ]
  }
 ],
 "metadata": {
  "kernelspec": {
   "display_name": "Python 3",
   "language": "python",
   "name": "python3"
  },
  "language_info": {
   "codemirror_mode": {
    "name": "ipython",
    "version": 3
   },
   "file_extension": ".py",
   "mimetype": "text/x-python",
   "name": "python",
   "nbconvert_exporter": "python",
   "pygments_lexer": "ipython3",
   "version": "3.7.3"
  }
 },
 "nbformat": 4,
 "nbformat_minor": 2
}
